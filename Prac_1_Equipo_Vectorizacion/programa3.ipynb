{
 "cells": [
  {
   "cell_type": "code",
   "execution_count": 1,
   "metadata": {},
   "outputs": [
    {
     "name": "stdout",
     "output_type": "stream",
     "text": [
      "File found!\n",
      "Precisión del modelo: 0.6697311495673671\n",
      "Informe de clasificación:\n",
      "              precision    recall  f1-score   support\n",
      "\n",
      "         neg       0.67      0.65      0.66      6371\n",
      "         pos       0.67      0.69      0.68      6573\n",
      "\n",
      "    accuracy                           0.67     12944\n",
      "   macro avg       0.67      0.67      0.67     12944\n",
      "weighted avg       0.67      0.67      0.67     12944\n",
      "\n"
     ]
    }
   ],
   "source": [
    "import numpy as np\n",
    "import pandas as pd\n",
    "from sklearn.feature_extraction.text import TfidfVectorizer\n",
    "from sklearn.model_selection import train_test_split\n",
    "from sklearn.naive_bayes import MultinomialNB\n",
    "from sklearn.metrics import accuracy_score, classification_report\n",
    "import os\n",
    "\n",
    "# Verify file existence (optional)\n",
    "if os.path.exists(\"movie_review.csv\"):\n",
    "    print(\"File found!\")\n",
    "    data = pd.read_csv(\"movie_review.csv\")\n",
    "else:\n",
    "    print(\"Error: File not found!\")\n",
    "# Cargar el conjunto de datos\n",
    "\n",
    "\n",
    "# Preprocesamiento de datos\n",
    "# Supongamos que tienes una columna 'texto' con las reseñas y una columna 'etiqueta' con las etiquetas (0 para negativo, 1 para positivo).\n",
    "# Separar los datos en características (X) y etiquetas (y)\n",
    "X = data['text']\n",
    "y = data['tag']\n",
    "\n",
    "# Dividir los datos en conjuntos de entrenamiento y prueba\n",
    "X_train, X_test, y_train, y_test = train_test_split(X, y,test_size=0.2, random_state=42)\n",
    "\n",
    "# Paso 4: Vectorización de texto\n",
    "vectorizer = TfidfVectorizer(max_features=5000) # Convertir el texto en características numéricas (TF-IDF)\n",
    "X_train = vectorizer.fit_transform(X_train)\n",
    "X_test = vectorizer.transform(X_test)\n",
    "\n",
    "# Paso 5: Entrenar un modelo de clasificación\n",
    "clf = MultinomialNB()\n",
    "clf.fit(X_train, y_train)\n",
    "\n",
    "# Paso 6: Realizar predicciones en el conjunto de prueba\n",
    "y_pred = clf.predict(X_test)\n",
    "\n",
    "# Paso 7: Evaluar el rendimiento del modelo\n",
    "accuracy = accuracy_score(y_test, y_pred)\n",
    "report = classification_report(y_test, y_pred)\n",
    "\n",
    "print(f\"Precisión del modelo: {accuracy}\")\n",
    "print(\"Informe de clasificación:\")\n",
    "print(report)"
   ]
  },
  {
   "cell_type": "markdown",
   "metadata": {},
   "source": [
    "# Mejoras al algoritmo\n",
    "1. Preprocesamiento de texto en las reseñas originales.\n",
    "2. Modificación de parámetros en la vectorización TF-IDF"
   ]
  },
  {
   "cell_type": "code",
   "execution_count": 2,
   "metadata": {},
   "outputs": [
    {
     "name": "stderr",
     "output_type": "stream",
     "text": [
      "[nltk_data] Downloading package punkt to\n",
      "[nltk_data]     C:\\Users\\chj06\\AppData\\Roaming\\nltk_data...\n",
      "[nltk_data]   Package punkt is already up-to-date!\n",
      "[nltk_data] Downloading package wordnet to\n",
      "[nltk_data]     C:\\Users\\chj06\\AppData\\Roaming\\nltk_data...\n",
      "[nltk_data]   Package wordnet is already up-to-date!\n",
      "[nltk_data] Downloading package stopwords to\n",
      "[nltk_data]     C:\\Users\\chj06\\AppData\\Roaming\\nltk_data...\n",
      "[nltk_data]   Package stopwords is already up-to-date!\n"
     ]
    },
    {
     "data": {
      "text/plain": [
       "True"
      ]
     },
     "execution_count": 2,
     "metadata": {},
     "output_type": "execute_result"
    }
   ],
   "source": [
    "# 1. Pre-procesamiento del texto\n",
    "import nltk\n",
    "from nltk.corpus import stopwords\n",
    "from nltk.tokenize import word_tokenize\n",
    "from nltk.stem import WordNetLemmatizer\n",
    "from nltk.stem import PorterStemmer\n",
    "import re\n",
    "nltk.download('punkt')\n",
    "nltk.download('wordnet')\n",
    "nltk.download('stopwords')"
   ]
  },
  {
   "cell_type": "code",
   "execution_count": 3,
   "metadata": {},
   "outputs": [],
   "source": [
    "def preprocess_text(text):\n",
    "    # Convertir a minúsculas\n",
    "    text = text.lower()\n",
    "    # Eliminar caracteres especiales y números\n",
    "    text = re.sub(r'[^a-zA-Z\\s]', '', text)\n",
    "    # Tokenizar el texto\n",
    "    tokens = word_tokenize(text)\n",
    "    # Eliminar stop words\n",
    "    stop_words = set(stopwords.words('english'))\n",
    "    tokens = [word for word in tokens if word not in stop_words]\n",
    "    # Lematizar palabras\n",
    "    lemmatizer = WordNetLemmatizer()\n",
    "    tokens = [lemmatizer.lemmatize(word) for word in tokens]\n",
    "    # Realizar stemming\n",
    "    stemmer = PorterStemmer()\n",
    "    tokens = [stemmer.stem(word) for word in tokens]\n",
    "    # Unir tokens nuevamente en texto\n",
    "    preprocessed_text = ' '.join(tokens)\n",
    "    return preprocessed_text"
   ]
  },
  {
   "cell_type": "code",
   "execution_count": 4,
   "metadata": {},
   "outputs": [],
   "source": [
    "# Aplicar preprocesamiento de texto a todas las reseñas\n",
    "for i in range(data['text'].shape[0]):\n",
    "  data.loc[i, 'preprocessed_text'] = preprocess_text(data.loc[i, 'text'])"
   ]
  },
  {
   "cell_type": "code",
   "execution_count": 5,
   "metadata": {},
   "outputs": [
    {
     "name": "stdout",
     "output_type": "stream",
     "text": [
      "Precisión del modelo: 0.6765296662546354\n",
      "Informe de clasificación:\n",
      "              precision    recall  f1-score   support\n",
      "\n",
      "         neg       0.68      0.65      0.66      6371\n",
      "         pos       0.67      0.70      0.69      6573\n",
      "\n",
      "    accuracy                           0.68     12944\n",
      "   macro avg       0.68      0.68      0.68     12944\n",
      "weighted avg       0.68      0.68      0.68     12944\n",
      "\n"
     ]
    }
   ],
   "source": [
    "# Separar los datos en características (X) y etiquetas (y)\n",
    "X = data['preprocessed_text']\n",
    "y = data['tag']\n",
    "\n",
    "# Dividir los datos en conjuntos de entrenamiento y prueba\n",
    "X_train, X_test, y_train, y_test = train_test_split(X, y, test_size=0.2, random_state=42)\n",
    "\n",
    "# Paso 4: Vectorización de texto\n",
    "vectorizer = TfidfVectorizer(max_features=5000) # Convertir el texto en características numéricas (TF-IDF)\n",
    "X_train = vectorizer.fit_transform(X_train)\n",
    "X_test = vectorizer.transform(X_test)\n",
    "\n",
    "# Paso 5: Entrenar un modelo de clasificación\n",
    "clf = MultinomialNB()\n",
    "clf.fit(X_train, y_train)\n",
    "\n",
    "# Paso 6: Realizar predicciones en el conjunto de prueba\n",
    "y_pred = clf.predict(X_test)\n",
    "\n",
    "# Paso 7: Evaluar el rendimiento del modelo\n",
    "accuracy = accuracy_score(y_test, y_pred)\n",
    "report = classification_report(y_test, y_pred)\n",
    "\n",
    "print(f\"Precisión del modelo: {accuracy}\")\n",
    "print(\"Informe de clasificación:\")\n",
    "print(report)"
   ]
  },
  {
   "cell_type": "code",
   "execution_count": 7,
   "metadata": {},
   "outputs": [
    {
     "name": "stdout",
     "output_type": "stream",
     "text": [
      "Precisión del modelo: 0.6997064276885043\n",
      "Informe de clasificación:\n",
      "              precision    recall  f1-score   support\n",
      "\n",
      "         neg       0.70      0.67      0.69      6371\n",
      "         pos       0.70      0.72      0.71      6573\n",
      "\n",
      "    accuracy                           0.70     12944\n",
      "   macro avg       0.70      0.70      0.70     12944\n",
      "weighted avg       0.70      0.70      0.70     12944\n",
      "\n"
     ]
    }
   ],
   "source": [
    "# Separar los datos en características (X) y etiquetas (y)\n",
    "X = data['preprocessed_text']\n",
    "y = data['tag']\n",
    "\n",
    "# Dividir los datos en conjuntos de entrenamiento y prueba\n",
    "X_train, X_test, y_train, y_test = train_test_split(X, y, test_size=0.2, random_state=42)\n",
    "\n",
    "best_tfidf_params = {\n",
    "    'max_features': 10000,  # Ejemplo de los mejores parámetros obtenidos para TF-IDF\n",
    "    'min_df': 1            # Ejemplo de los mejores parámetros obtenidos para TF-IDF\n",
    "}\n",
    "\n",
    "vectorizer = TfidfVectorizer(**best_tfidf_params)\n",
    "X_train = vectorizer.fit_transform(X_train)\n",
    "X_test = vectorizer.transform(X_test)\n",
    "\n",
    "# Paso 5: Entrenar un modelo de clasificación\n",
    "clf = MultinomialNB()\n",
    "clf.fit(X_train, y_train)\n",
    "\n",
    "# Paso 6: Realizar predicciones en el conjunto de prueba\n",
    "y_pred = clf.predict(X_test)\n",
    "\n",
    "# Paso 7: Evaluar el rendimiento del modelo\n",
    "accuracy = accuracy_score(y_test, y_pred)\n",
    "report = classification_report(y_test, y_pred)\n",
    "\n",
    "print(f\"Precisión del modelo: {accuracy}\")\n",
    "print(\"Informe de clasificación:\")\n",
    "print(report)"
   ]
  }
 ],
 "metadata": {
  "kernelspec": {
   "display_name": "Python 3",
   "language": "python",
   "name": "python3"
  },
  "language_info": {
   "codemirror_mode": {
    "name": "ipython",
    "version": 3
   },
   "file_extension": ".py",
   "mimetype": "text/x-python",
   "name": "python",
   "nbconvert_exporter": "python",
   "pygments_lexer": "ipython3",
   "version": "3.11.1"
  }
 },
 "nbformat": 4,
 "nbformat_minor": 2
}
