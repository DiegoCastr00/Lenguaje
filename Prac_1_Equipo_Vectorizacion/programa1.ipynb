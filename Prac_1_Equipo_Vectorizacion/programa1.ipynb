{
 "cells": [
  {
   "cell_type": "code",
   "execution_count": 1,
   "metadata": {},
   "outputs": [
    {
     "name": "stderr",
     "output_type": "stream",
     "text": [
      "[nltk_data] Downloading package punkt to\n",
      "[nltk_data]     C:\\Users\\SZMik\\AppData\\Roaming\\nltk_data...\n",
      "[nltk_data]   Package punkt is already up-to-date!\n"
     ]
    },
    {
     "name": "stdout",
     "output_type": "stream",
     "text": [
      "<class 'list'>\n",
      "                  0          1         2         3         4             5  \\\n",
      "0  especificaciones  jurídicas  sociales  posición    varios  toxicológico   \n",
      "1          0.655366   0.633389  0.618748  0.617223  0.600237      0.598746   \n",
      "\n",
      "          6         7         8          9  \n",
      "0     dolly    motriz  mentales  paraderos  \n",
      "1  0.586518  0.570859  0.567537   0.566533  \n"
     ]
    }
   ],
   "source": [
    "import nltk\n",
    "nltk.download('punkt')\n",
    "import gensim\n",
    "import numpy as np\n",
    "import pandas as pd\n",
    "from nltk.tokenize import word_tokenize\n",
    "from gensim.test.utils import common_texts\n",
    "from gensim.models import Word2Vec\n",
    "\n",
    "# Eliminar simbolos **************************************************************\n",
    "symbols = [\n",
    "    '~','`','!','¡','@','#','$','%','^',\n",
    "    '*','(',')','_','-','+','=','{','}','[',\n",
    "    ']','\\\\',':',';','<','>','/', '.', ',','&','\\n',\n",
    "    '\\r','\\t', '|', '“', '\"', '–', '”', '©', '-', '—',\n",
    "    '…', ';', '‘','’']\n",
    "\n",
    "file_name = \"Reglamento_transito.txt\" # Archivo original\n",
    "file_name_mod = file_name.replace(\".txt\", \"\")\n",
    "file_name_mod = file_name_mod + \"m.txt\" # Archivo modificado (tiene una \"m\" al final)\n",
    "\n",
    "mod_file = open(file_name_mod, 'w', encoding='utf-8')\n",
    "raw_file = open(file_name, 'r', encoding='utf-8')\n",
    "\n",
    "for x in raw_file:  # normalizacion del texto\n",
    "    \n",
    "    for i in symbols:\n",
    "        x = x.replace(i, \"\") # Reemplazar\n",
    "\n",
    "    mod_file.write(x)\n",
    "\n",
    "mod_file.close()\n",
    "raw_file.close()\n",
    "#*********************************************************************************\n",
    "\n",
    "with open('Reglamento_transitom.txt', 'r', encoding='utf-8') as f: # Archivo modificado (con la \"m\" al final)\n",
    "    document = f.read()\n",
    "\n",
    "document[:1000]\n",
    "\n",
    "# tokenizar el documento en oraciones\n",
    "sentences = nltk.sent_tokenize(document)\n",
    "sentences[:10]\n",
    "\n",
    "#tokenizar cada oracion en palabras\n",
    "word_tokens = [nltk.tokenize.word_tokenize(sentence.lower()) for sentence in sentences]\n",
    "\n",
    "#Modelo word2vec\n",
    "modelo_w2v = gensim.models.Word2Vec(sentences = word_tokens,vector_size=32,window= 10,min_count=1, workers=4)\n",
    "#model = Word2Vec(sentences=common_texts, vector_size=100, window=5, min_count=1, workers=4)\n",
    "modelo_w2v.save(\"word2vec.model\")\n",
    "\n",
    "model = Word2Vec.load(\"word2vec.model\")\n",
    "model.train(sentences, total_examples=1, epochs=100)\n",
    "\n",
    "#sims = modelo_w2v.wv.most_similar('carretera', topn=10)\n",
    "sims = model.wv.most_similar('auto', topn=10)\n",
    "print(type(sims))\n",
    "df = pd. DataFrame (sims). T\n",
    "print(df)\n",
    "\n",
    "\n"
   ]
  }
 ],
 "metadata": {
  "kernelspec": {
   "display_name": "Python 3",
   "language": "python",
   "name": "python3"
  },
  "language_info": {
   "codemirror_mode": {
    "name": "ipython",
    "version": 3
   },
   "file_extension": ".py",
   "mimetype": "text/x-python",
   "name": "python",
   "nbconvert_exporter": "python",
   "pygments_lexer": "ipython3",
   "version": "3.12.0"
  }
 },
 "nbformat": 4,
 "nbformat_minor": 2
}
