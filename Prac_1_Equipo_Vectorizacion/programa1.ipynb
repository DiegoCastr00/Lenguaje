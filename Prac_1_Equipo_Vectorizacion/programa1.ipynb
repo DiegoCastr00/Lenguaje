{
 "cells": [
  {
   "cell_type": "code",
   "execution_count": 3,
   "metadata": {},
   "outputs": [
    {
     "name": "stderr",
     "output_type": "stream",
     "text": [
      "[nltk_data] Downloading package punkt to\n",
      "[nltk_data]     C:\\Users\\nanga\\AppData\\Roaming\\nltk_data...\n",
      "[nltk_data]   Package punkt is already up-to-date!\n"
     ]
    },
    {
     "name": "stdout",
     "output_type": "stream",
     "text": [
      "<class 'list'>\n",
      "          0         1         2         3         4              5         6   \n",
      "0      xiii    cometa  amarilla   destino    último  fundamentales    cuenta  \\\n",
      "1  0.915586  0.914706  0.907216  0.904009  0.902555       0.901229  0.901018   \n",
      "\n",
      "          7         8          9  \n",
      "0   haberse   titular  infractor  \n",
      "1  0.898856  0.897951   0.897875  \n"
     ]
    }
   ],
   "source": [
    "import nltk\n",
    "nltk.download('punkt')\n",
    "import gensim\n",
    "import numpy as np\n",
    "import pandas as pd\n",
    "from nltk.tokenize import word_tokenize\n",
    "from gensim.test.utils import common_texts\n",
    "from gensim.models import Word2Vec\n",
    "\n",
    "\n",
    "with open('Reglamento_transito.txt', 'r', encoding='utf-8') as f:\n",
    "    document = f.read()\n",
    "\n",
    "document[:1000]\n",
    "\n",
    "# tokenizar el documento en oraciones\n",
    "sentences = nltk.sent_tokenize(document)\n",
    "sentences[:10]\n",
    "\n",
    "#tokenizar cada oracion en palabras\n",
    "word_tokens = [nltk.tokenize.word_tokenize(sentence.lower()) for sentence in sentences]\n",
    "\n",
    "#Modelo word2vec\n",
    "modelo_w2v = gensim.models.Word2Vec(sentences = word_tokens,vector_size=32,window= 10,min_count=1, workers=4)\n",
    "#model = Word2Vec(sentences=common_texts, vector_size=100, window=5, min_count=1, workers=4)\n",
    "modelo_w2v.save(\"word2vec.model\")\n",
    "\n",
    "model = Word2Vec.load(\"word2vec.model\")\n",
    "model.train(sentences, total_examples=1, epochs=100)\n",
    "\n",
    "#sims = modelo_w2v.wv.most_similar('carretera', topn=10)\n",
    "sims = model.wv.most_similar('auto', topn=10)\n",
    "print(type(sims))\n",
    "df = pd. DataFrame (sims). T\n",
    "print(df)\n",
    "\n",
    "\n"
   ]
  }
 ],
 "metadata": {
  "kernelspec": {
   "display_name": "Python 3",
   "language": "python",
   "name": "python3"
  },
  "language_info": {
   "codemirror_mode": {
    "name": "ipython",
    "version": 3
   },
   "file_extension": ".py",
   "mimetype": "text/x-python",
   "name": "python",
   "nbconvert_exporter": "python",
   "pygments_lexer": "ipython3",
   "version": "3.11.2"
  }
 },
 "nbformat": 4,
 "nbformat_minor": 2
}
