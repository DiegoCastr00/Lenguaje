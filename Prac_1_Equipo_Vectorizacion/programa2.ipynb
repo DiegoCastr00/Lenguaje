{
 "cells": [
  {
   "cell_type": "code",
   "execution_count": 1,
   "metadata": {},
   "outputs": [
    {
     "name": "stdout",
     "output_type": "stream",
     "text": [
      "Vector de 'peatón': [-0.00079804  0.00026729  0.00283094  0.00512318 -0.00243684  0.00332727\n",
      "  0.00076656 -0.00782469  0.00105726 -0.00263226  0.000217   -0.00305116\n",
      " -0.00186844 -0.00284281 -0.00581306 -0.00341293  0.00046467 -0.0063665\n",
      "  0.00072817 -0.00285218 -0.00592317 -0.00066303  0.00819733 -0.00112108\n",
      "  0.01057125 -0.01025103  0.00588627  0.00786563 -0.00183012  0.00454674\n",
      "  0.0048258   0.00361952  0.00106194  0.00541633 -0.0012307   0.00246343\n",
      "  0.00268157 -0.00765443  0.00314659  0.0042031   0.00549844 -0.00346648\n",
      " -0.00828313  0.00716317 -0.00845947 -0.00309628  0.00497665  0.00245242\n",
      "  0.00364914  0.00092612  0.00385434  0.01145598 -0.0116412  -0.00776407\n",
      " -0.0026741  -0.00374533  0.005307   -0.004415   -0.00409443  0.02256503\n",
      " -0.0066718   0.01047302  0.0028373  -0.00632983  0.00768044 -0.00363937\n",
      "  0.00093727 -0.00594666 -0.00758751  0.00386622 -0.01032235  0.00078467\n",
      "  0.00122991  0.01080539 -0.00176178 -0.00445706  0.00969965  0.00144843\n",
      "  0.00911687  0.00770672 -0.01213956  0.00067129  0.00922767  0.00569162\n",
      "  0.01312036 -0.00710989  0.0030121  -0.01295144  0.00168937 -0.00100107\n",
      "  0.00768925 -0.00446497 -0.00122583  0.01320032 -0.00310747  0.00747536\n",
      " -0.0066972  -0.00437201  0.00056054  0.0022581 ]\n",
      "Palabras similares a 'peatón': [('112,', 0.6425551371325086), ('202)', 0.6418898905844633), ('154,', 0.6240162375433392)]\n"
     ]
    },
    {
     "name": "stderr",
     "output_type": "stream",
     "text": [
      "C:\\Users\\nanga\\AppData\\Local\\Temp\\ipykernel_10932\\3769224370.py:8: RuntimeWarning: invalid value encountered in scalar divide\n",
      "  similarity = dot_product / (norm1 * norm2)\n"
     ]
    }
   ],
   "source": [
    "import numpy as np\n",
    "\n",
    "# Calcular similitud de palabras\n",
    "def cosine_similarity(vec1, vec2):\n",
    "    dot_product = np.dot(vec1, vec2)\n",
    "    norm1 = np.linalg.norm(vec1)\n",
    "    norm2 = np.linalg.norm(vec2)\n",
    "    similarity = dot_product / (norm1 * norm2)\n",
    "    return similarity\n",
    "\n",
    "# Leer el conjunto de datos desde un archivo de texto plano (reemplaza 'dataset.txt' con tu archivo)\n",
    "with open('Reglamento_transito.txt', 'r', encoding='utf-8') as file:\n",
    "    sentences = [line.strip().split() for line in file]\n",
    "\n",
    "# Crear un vocabulario único de palabras\n",
    "vocab = list(set(word for sentence in sentences for word in sentence))\n",
    "vocab.sort()\n",
    "\n",
    "# Crear una matriz de co-ocurrencia\n",
    "window_size = 2\n",
    "co_occurrence_matrix = np.zeros((len(vocab), len(vocab)))\n",
    "\n",
    "for sentence in sentences:\n",
    "    for i, target_word in enumerate(sentence):\n",
    "        target_index = vocab.index(target_word)\n",
    "        context_window = sentence[max(0, i - window_size):i] + sentence[i + 1:i + window_size + 1]\n",
    "\n",
    "        for context_word in context_window:\n",
    "            context_index = vocab.index(context_word)\n",
    "            co_occurrence_matrix[target_index][context_index] += 1\n",
    "\n",
    "# Aplicar SVD para obtener vectores de palabras\n",
    "U, S, Vt = np.linalg.svd(co_occurrence_matrix)\n",
    "\n",
    "# Reducir la dimensionalidad (opcional)\n",
    "vector_size = 100\n",
    "word_vectors = U[:, :vector_size]\n",
    "\n",
    "# Consultar el vector de una palabra específica\n",
    "target_word = \"peatón\"\n",
    "target_index = vocab.index(target_word)\n",
    "vector = word_vectors[target_index]\n",
    "print(f\"Vector de '{target_word}':\", vector)\n",
    "\n",
    "\n",
    "similar_words = {}\n",
    "for word in vocab:\n",
    "    word_index = vocab.index(word)\n",
    "    similarity = cosine_similarity(word_vectors[target_index], word_vectors[word_index])\n",
    "    similar_words[word] = similarity\n",
    "\n",
    "sorted_similar_words = sorted(similar_words.items(), key=lambda x: x[1], reverse=True)\n",
    "top_similar_words = sorted_similar_words[:3]\n",
    "print(f\"Palabras similares a '{target_word}': {top_similar_words}\")\n"
   ]
  }
 ],
 "metadata": {
  "kernelspec": {
   "display_name": "Python 3",
   "language": "python",
   "name": "python3"
  },
  "language_info": {
   "codemirror_mode": {
    "name": "ipython",
    "version": 3
   },
   "file_extension": ".py",
   "mimetype": "text/x-python",
   "name": "python",
   "nbconvert_exporter": "python",
   "pygments_lexer": "ipython3",
   "version": "3.11.2"
  }
 },
 "nbformat": 4,
 "nbformat_minor": 2
}
