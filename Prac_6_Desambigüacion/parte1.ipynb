{
 "cells": [
  {
   "cell_type": "code",
   "execution_count": 1,
   "metadata": {},
   "outputs": [
    {
     "name": "stderr",
     "output_type": "stream",
     "text": [
      "[nltk_data] Downloading package omw-1.4 to /home/dante/nltk_data...\n",
      "[nltk_data]   Package omw-1.4 is already up-to-date!\n",
      "[nltk_data] Downloading package wordnet to /home/dante/nltk_data...\n",
      "[nltk_data]   Package wordnet is already up-to-date!\n",
      "[nltk_data] Downloading package wordnet2022 to\n",
      "[nltk_data]     /home/dante/nltk_data...\n",
      "[nltk_data]   Package wordnet2022 is already up-to-date!\n"
     ]
    },
    {
     "data": {
      "text/plain": [
       "True"
      ]
     },
     "execution_count": 1,
     "metadata": {},
     "output_type": "execute_result"
    }
   ],
   "source": [
    "from nltk import wsd\n",
    "import pandas as pd\n",
    "import numpy as np\n",
    "import nltk\n",
    "from nltk.corpus import wordnet as wn\n",
    "from spacy.cli import download\n",
    "from spacy import load\n",
    "import warnings\n",
    "\n",
    "nltk.download('omw-1.4')\n",
    "nltk.download('wordnet')\n",
    "nltk.download('wordnet2022')"
   ]
  },
  {
   "cell_type": "code",
   "execution_count": 2,
   "metadata": {},
   "outputs": [],
   "source": [
    "nlp = load('en_core_web_sm')"
   ]
  },
  {
   "cell_type": "code",
   "execution_count": 3,
   "metadata": {},
   "outputs": [
    {
     "name": "stdout",
     "output_type": "stream",
     "text": [
      "definicion 0 : a small cube with 1 to 6 spots on the six faces; used in gambling to generate random numbers\n",
      "definicion 1 : a device used for shaping metal\n",
      "definicion 2 : a cutting tool that is fitted into a diestock and used for cutting male (external) screw threads on screws or bolts or pipes or rods\n"
     ]
    }
   ],
   "source": [
    "\"\"\"En el siguiente ejemplo la palabra morir tiene un significado diferente en cada frase.\n",
    "Sólo entendiendo el contexto de la palabra la PNL puede improvisar más.\n",
    "\"\"\"\n",
    "\n",
    "X = 'The die is cast.' # La suerte está echada. // El dado está lanzado ?? \n",
    "Y = 'Roll the die to get a 6.' # Tira el dado para obtener un 6.\n",
    "Z = 'What is dead may never die.' # Lo que está muerto nunca morirá.\n",
    "\n",
    "\"\"\" En este ejemplo se  va utilizar wordnet de la universidad de princeton para obtener de la palabra diferentes frases de contexto como parte de la oración adjunta.\n",
    " ->> Wordnet : es una base de datos léxica del inglés. Sustantivos, verbos, adjetivos y adverbios que se agrupan en conjuntos de  sinónimos cognitivos (synsets), cada uno de los cuales expresa un concepto distinto.\n",
    " ->> En python los datos de wordnet se cargan con NLTK.\n",
    " ->> Por ejemplo se pasa la palabra die a wordnet y se intenta obtener las diferentes frases unqiue wordnet que se tiene para die\n",
    " ->> La salida de wordnet puede ser definiciones diferentes de die que incluyen verbos y sustantivos\n",
    "\"\"\"\n",
    "\n",
    "wn.synsets(\"die\")\n",
    "\n",
    "# comprobar detalles relacionados con el sustantivo\n",
    "wn.synsets('die', pos=wn.NOUN)\n",
    "\n",
    "# imprimir todas las definiciones relacionados con  sustantivos\n",
    "i =0\n",
    "for syn in wn.synsets('die', pos=wn.NOUN):\n",
    "    print(\"definicion {0} : {1}\".format(i, syn.definition()))\n",
    "    i+=1"
   ]
  },
  {
   "cell_type": "code",
   "execution_count": 4,
   "metadata": {},
   "outputs": [
    {
     "name": "stdout",
     "output_type": "stream",
     "text": [
      "defination 0 : pass from physical life and lose all bodily attributes and functions necessary to sustain life\n",
      "defination 1 : suffer or face the pain of death\n",
      "defination 2 : be brought to or as if to the point of death by an intense emotion such as embarrassment, amusement, or shame\n",
      "defination 3 : stop operating or functioning\n",
      "defination 4 : feel indifferent towards\n",
      "defination 5 : languish as with love or desire\n",
      "defination 6 : cut or shape with a die\n",
      "defination 7 : to be on base at the end of an inning, of a player\n",
      "defination 8 : lose sparkle or bouquet\n",
      "defination 9 : disappear or come to an end\n",
      "defination 10 : suffer spiritual death; be damned (in the religious sense)\n"
     ]
    }
   ],
   "source": [
    "# imprimir todas las definiciones relacionados con verbos\n",
    "i =0\n",
    "for syn in wn.synsets('die', pos=wn.VERB):\n",
    "    print(\"defination {0} : {1}\".format(i, syn.definition()))\n",
    "    i+=1"
   ]
  },
  {
   "cell_type": "code",
   "execution_count": 31,
   "metadata": {},
   "outputs": [
    {
     "name": "stdout",
     "output_type": "stream",
     "text": [
      "The die is cast.\n",
      "Synset('die.v.07')\n",
      "cut or shape with a die\n"
     ]
    },
    {
     "data": {
      "text/plain": [
       "'Para la frase de entrada X,lesk ha encontrado una frase similar coincidente cuyo tipo es verbo, y que no es correcta. En la siguiente se pasará explícitamente la parte de la oración (POS) y se comprobará la salida \\n\\nLa POS tagging (Part of Speech\" en inglés) es un proceso en el que cada palabra en un texto es etiquetada con su categoría gramatical, como sustantivo, verbo, adjetivo, etc.\\n'"
      ]
     },
     "execution_count": 31,
     "metadata": {},
     "output_type": "execute_result"
    }
   ],
   "source": [
    "\"\"\"Word-Sense Disambiguation con Algoritmo Lesk\"\"\"\n",
    "\n",
    "# introduzca la frase X \"La suerte está echada\" y compruebe si lesk es capaz de encontrar la frase similar correcta.\n",
    "print(X)\n",
    "print(wsd.lesk(X.split(), 'die'))\n",
    "print(wsd.lesk(X.split(), 'die').definition())\n",
    "\n",
    "\"\"\"Para la frase de entrada X,lesk ha encontrado una frase similar coincidente cuyo tipo es verbo, y que no es correcta. En la siguiente se pasará explícitamente la parte de la oración (POS) y se comprobará la salida \n",
    "\n",
    "La POS tagging (Part of Speech\" en inglés) es un proceso en el que cada palabra en un texto es etiquetada con su categoría gramatical, como sustantivo, verbo, adjetivo, etc.\n",
    "\"\"\"\n"
   ]
  },
  {
   "cell_type": "code",
   "execution_count": 6,
   "metadata": {},
   "outputs": [
    {
     "name": "stdout",
     "output_type": "stream",
     "text": [
      "The die is cast.\n"
     ]
    },
    {
     "data": {
      "text/plain": [
       "'a cutting tool that is fitted into a diestock and used for cutting male (external) screw threads on screws or bolts or pipes or rods'"
      ]
     },
     "execution_count": 6,
     "metadata": {},
     "output_type": "execute_result"
    }
   ],
   "source": [
    "# al pasar un POS conseguimos la definición correcta\n",
    "print(X)\n",
    "wsd.lesk(X.split(), 'die', pos=wn.NOUN).definition()"
   ]
  },
  {
   "cell_type": "code",
   "execution_count": 7,
   "metadata": {},
   "outputs": [
    {
     "name": "stdout",
     "output_type": "stream",
     "text": [
      "Roll the die to get a 6.\n"
     ]
    },
    {
     "data": {
      "text/plain": [
       "'to be on base at the end of an inning, of a player'"
      ]
     },
     "execution_count": 7,
     "metadata": {},
     "output_type": "execute_result"
    }
   ],
   "source": [
    "# para la frase X, es decir, \"Tira el dado para obtener un 6.\" es de nuevo un sustantivo.\n",
    "print(Y)\n",
    "wsd.lesk(Y.split(), 'die').definition()"
   ]
  },
  {
   "cell_type": "code",
   "execution_count": 8,
   "metadata": {},
   "outputs": [
    {
     "data": {
      "text/plain": [
       "'a small cube with 1 to 6 spots on the six faces; used in gambling to generate random numbers'"
      ]
     },
     "execution_count": 8,
     "metadata": {},
     "output_type": "execute_result"
    }
   ],
   "source": [
    "# Con pasar un POS conseguimos la defianción correcta?\n",
    "wsd.lesk(Y.split(), 'die', pos=wn.NOUN).definition()"
   ]
  },
  {
   "cell_type": "code",
   "execution_count": 28,
   "metadata": {},
   "outputs": [
    {
     "name": "stdout",
     "output_type": "stream",
     "text": [
      "What is dead may never die.\n",
      "a cutting tool that is fitted into a diestock and used for cutting male (external) screw threads on screws or bolts or pipes or rods \n",
      "\n",
      "stop operating or functioning\n"
     ]
    }
   ],
   "source": [
    "# Observaciones similares con la sentencia Z\n",
    "print(Z)\n",
    "print(wsd.lesk(Z.split(), 'die').definition(),\"\\n\")\n",
    "print(wsd.lesk(Z.split(), 'die', pos=wn.VERB).definition())"
   ]
  },
  {
   "cell_type": "code",
   "execution_count": 16,
   "metadata": {},
   "outputs": [
    {
     "name": "stdout",
     "output_type": "stream",
     "text": [
      "I PRON\n",
      "loved VERB\n",
      "the DET\n",
      "screen NOUN\n",
      "on ADP\n",
      "this DET\n",
      "phone NOUN\n",
      ". PUNCT\n"
     ]
    }
   ],
   "source": [
    "\"\"\"Etiquetado automático\"\"\"\n",
    "\n",
    "# Pasar una frase a spacy para la búsqueda automática de la etiqueta POS.\n",
    "# Observar la salida, es evidente que la forma POS se encuentra para una frase.\n",
    "\n",
    "sent1 = \"I loved the screen on this phone.\"\n",
    "doc1 = nlp(sent1)\n",
    "for tok in doc1:\n",
    "    print(tok.text,tok.pos_)"
   ]
  },
  {
   "cell_type": "code",
   "execution_count": 17,
   "metadata": {},
   "outputs": [
    {
     "name": "stdout",
     "output_type": "stream",
     "text": [
      "The DET\n",
      "battery NOUN\n",
      "life NOUN\n",
      "on ADP\n",
      "this DET\n",
      "phone NOUN\n",
      "is AUX\n",
      "great ADJ\n",
      ". PUNCT\n",
      "! PUNCT\n"
     ]
    }
   ],
   "source": [
    "# ejemplos adicionales\n",
    "sent2 = \"The battery life on this phone is great. !\"\n",
    "doc2 = nlp(sent2)\n",
    "for tok in doc2:\n",
    "    print(tok.text,tok.pos_)"
   ]
  },
  {
   "cell_type": "code",
   "execution_count": 18,
   "metadata": {},
   "outputs": [
    {
     "data": {
      "text/html": [
       "<div>\n",
       "<style scoped>\n",
       "    .dataframe tbody tr th:only-of-type {\n",
       "        vertical-align: middle;\n",
       "    }\n",
       "\n",
       "    .dataframe tbody tr th {\n",
       "        vertical-align: top;\n",
       "    }\n",
       "\n",
       "    .dataframe thead th {\n",
       "        text-align: right;\n",
       "    }\n",
       "</style>\n",
       "<table border=\"1\" class=\"dataframe\">\n",
       "  <thead>\n",
       "    <tr style=\"text-align: right;\">\n",
       "      <th></th>\n",
       "      <th>text</th>\n",
       "      <th>lemma</th>\n",
       "      <th>pos</th>\n",
       "    </tr>\n",
       "  </thead>\n",
       "  <tbody>\n",
       "    <tr>\n",
       "      <th>0</th>\n",
       "      <td>I</td>\n",
       "      <td>I</td>\n",
       "      <td>PRON</td>\n",
       "    </tr>\n",
       "    <tr>\n",
       "      <th>1</th>\n",
       "      <td>loved</td>\n",
       "      <td>love</td>\n",
       "      <td>VERB</td>\n",
       "    </tr>\n",
       "    <tr>\n",
       "      <th>2</th>\n",
       "      <td>the</td>\n",
       "      <td>the</td>\n",
       "      <td>DET</td>\n",
       "    </tr>\n",
       "    <tr>\n",
       "      <th>3</th>\n",
       "      <td>screen</td>\n",
       "      <td>screen</td>\n",
       "      <td>NOUN</td>\n",
       "    </tr>\n",
       "    <tr>\n",
       "      <th>4</th>\n",
       "      <td>on</td>\n",
       "      <td>on</td>\n",
       "      <td>ADP</td>\n",
       "    </tr>\n",
       "  </tbody>\n",
       "</table>\n",
       "</div>"
      ],
      "text/plain": [
       "     text   lemma   pos\n",
       "0       I       I  PRON\n",
       "1   loved    love  VERB\n",
       "2     the     the   DET\n",
       "3  screen  screen  NOUN\n",
       "4      on      on   ADP"
      ]
     },
     "execution_count": 18,
     "metadata": {},
     "output_type": "execute_result"
    }
   ],
   "source": [
    "# leer el etiquetado POS y el lema (sólo ampliando un ejemplo para mostrar el lema)\n",
    "\n",
    "sent1 = \"I loved the screen on this phone.\"\n",
    "doc1 = nlp(sent1)\n",
    "pos = []\n",
    "lemma = []\n",
    "text = []\n",
    "for tok in doc1:\n",
    "    pos.append(tok.pos_)\n",
    "    lemma.append(tok.lemma_)\n",
    "    text.append(tok.text)\n",
    "nlp_table = pd.DataFrame({'text':text,'lemma':lemma,'pos':pos})\n",
    "nlp_table.head()"
   ]
  },
  {
   "cell_type": "code",
   "execution_count": 21,
   "metadata": {},
   "outputs": [
    {
     "data": {
      "text/plain": [
       "Synset('die.n.01')"
      ]
     },
     "execution_count": 21,
     "metadata": {},
     "output_type": "execute_result"
    }
   ],
   "source": [
    "\"\"\"Etiquetado Automatico POS + Lesk con spaCy\"\"\"\n",
    "\n",
    "POS_MAP = {\n",
    "    'VERB': wn.VERB,\n",
    "    'NOUN': wn.NOUN,\n",
    "    'PROPN': wn.NOUN\n",
    "}\n",
    "\n",
    "def lesk(doc, word):\n",
    "    found = False\n",
    "    for token in doc:\n",
    "        if token.text == word:\n",
    "            word = token\n",
    "            found = True\n",
    "            break\n",
    "    if not found:\n",
    "        raise ValueError(f'Word \\\"{word}\\\" No aparece en el documentos: {doc.text}.')\n",
    "    pos = POS_MAP.get(word.pos_, False)\n",
    "    if not pos:\n",
    "        warnings.warn(f'POS tag para {word.text} no encontrada en wordnet. Volver al comportamiento por defecto de Lesk.')\n",
    "    args = [c.text for c in doc], word.text\n",
    "    kwargs = dict(pos=pos)\n",
    "    return wsd.lesk(*args, **kwargs)\n",
    "\n",
    "doc = nlp('Roll the die to get a 6.')\n",
    "lesk(doc, 'die')"
   ]
  },
  {
   "cell_type": "code",
   "execution_count": 22,
   "metadata": {},
   "outputs": [
    {
     "data": {
      "text/plain": [
       "'a small cube with 1 to 6 spots on the six faces; used in gambling to generate random numbers'"
      ]
     },
     "execution_count": 22,
     "metadata": {},
     "output_type": "execute_result"
    }
   ],
   "source": [
    "# búsqueda de la etiqueta POS por defecto, para ayudar a lesk a encontrar la definición correcta.\n",
    "\n",
    "lesk(doc, 'die').definition()"
   ]
  },
  {
   "cell_type": "code",
   "execution_count": 24,
   "metadata": {},
   "outputs": [
    {
     "data": {
      "text/plain": [
       "\"a widely used search engine that uses text-matching techniques to find web pages that are important and relevant to a user's search\""
      ]
     },
     "execution_count": 24,
     "metadata": {},
     "output_type": "execute_result"
    }
   ],
   "source": [
    "# ejemplo adicional, con la sentencia siguiente\n",
    "\n",
    "lesk(nlp('I work at google.'), 'google').definition()"
   ]
  },
  {
   "cell_type": "code",
   "execution_count": 25,
   "metadata": {},
   "outputs": [
    {
     "data": {
      "text/plain": [
       "'search the internet (for information) using the Google search engine'"
      ]
     },
     "execution_count": 25,
     "metadata": {},
     "output_type": "execute_result"
    }
   ],
   "source": [
    "# revisar cuando se trata como verbo google\n",
    "\n",
    "lesk(nlp('I will google it.'), 'google').definition()"
   ]
  },
  {
   "cell_type": "code",
   "execution_count": 26,
   "metadata": {},
   "outputs": [
    {
     "data": {
      "text/plain": [
       "'grounds for feeling hopeful about the future'"
      ]
     },
     "execution_count": 26,
     "metadata": {},
     "output_type": "execute_result"
    }
   ],
   "source": [
    "# esperanza como sustantivo\n",
    "lesk(nlp('Her pep talk gave me hope'), 'hope').definition()"
   ]
  },
  {
   "cell_type": "code",
   "execution_count": 27,
   "metadata": {},
   "outputs": [
    {
     "data": {
      "text/plain": [
       "'intend with some possibility of fulfilment'"
      ]
     },
     "execution_count": 27,
     "metadata": {},
     "output_type": "execute_result"
    }
   ],
   "source": [
    "# esperanza como verbo\n",
    "lesk(nlp('I hope we win!'), 'hope').definition()"
   ]
  }
 ],
 "metadata": {
  "kernelspec": {
   "display_name": "Python 3",
   "language": "python",
   "name": "python3"
  },
  "language_info": {
   "codemirror_mode": {
    "name": "ipython",
    "version": 3
   },
   "file_extension": ".py",
   "mimetype": "text/x-python",
   "name": "python",
   "nbconvert_exporter": "python",
   "pygments_lexer": "ipython3",
   "version": "3.10.12"
  }
 },
 "nbformat": 4,
 "nbformat_minor": 2
}
