{
 "cells": [
  {
   "cell_type": "code",
   "execution_count": 26,
   "metadata": {},
   "outputs": [],
   "source": [
    "import os\n",
    "import docx2pdf\n",
    "import pptxtopdf\n",
    "from fpdf import FPDF\n",
    "import shutil"
   ]
  },
  {
   "cell_type": "code",
   "execution_count": 28,
   "metadata": {},
   "outputs": [],
   "source": [
    "def txt_to_pdf(nombre, ubicacion):\n",
    "    \n",
    "    # Crear objeto PDF\n",
    "    pdf = FPDF()\n",
    "    pdf.add_page()\n",
    "    pdf.set_font(\"Arial\", size=12)\n",
    "\n",
    "    # Abrir el archivo de texto\n",
    "    with open(nombre, \"r\", encoding='utf-8') as f:\n",
    "        # Insertar el texto en el PDF usando multi_cell\n",
    "        for x in f:\n",
    "            pdf.multi_cell(0, 10, txt=x)\n",
    "\n",
    "    # Guardar el PDF\n",
    "    pdf.output(ubicacion + \"/\" + os.path.splitext(nombre)[0] + '.pdf')\n"
   ]
  },
  {
   "cell_type": "code",
   "execution_count": 29,
   "metadata": {},
   "outputs": [
    {
     "name": "stderr",
     "output_type": "stream",
     "text": [
      "100%|██████████| 1/1 [00:03<00:00,  3.83s/it]\n",
      "100%|██████████| 1/1 [00:03<00:00,  3.56s/it]\n"
     ]
    },
    {
     "name": "stdout",
     "output_type": "stream",
     "text": [
      "Conversion completed: 1 files converted successfully, 0 files failed.\n",
      "Conversion completed: 1 files converted successfully, 0 files failed.\n"
     ]
    }
   ],
   "source": [
    "output_folder = \"docs\"\n",
    "\n",
    "ejemplo_dir = '.'\n",
    "\n",
    "with os.scandir(ejemplo_dir) as ficheros:\n",
    "    for fichero in ficheros:\n",
    "        input_file = fichero.name\n",
    "\n",
    "        if ((fichero.name[-3] == 'o') & (fichero.name[-2] == 'c') & (fichero.name[-1] == 'x')): #docx\n",
    "            docx2pdf.convert(input_file, output_folder)\n",
    "\n",
    "        if ((fichero.name[-3] == 'p') & (fichero.name[-2] == 't') & (fichero.name[-1] == 'x')): #pptx\n",
    "            pptxtopdf.convert(input_file, output_folder)\n",
    "\n",
    "        if ((fichero.name[-3] == 't') & (fichero.name[-2] == 'x') & (fichero.name[-1] == 't')): #txt\n",
    "            txt_to_pdf(input_file, output_folder)\n",
    "\n",
    "        if ((fichero.name[-3] == 'p') & (fichero.name[-2] == 'd') & (fichero.name[-1] == 'f')): #pdf\n",
    "            shutil.copy2(input_file, output_folder)\n"
   ]
  }
 ],
 "metadata": {
  "kernelspec": {
   "display_name": "Python 3",
   "language": "python",
   "name": "python3"
  },
  "language_info": {
   "codemirror_mode": {
    "name": "ipython",
    "version": 3
   },
   "file_extension": ".py",
   "mimetype": "text/x-python",
   "name": "python",
   "nbconvert_exporter": "python",
   "pygments_lexer": "ipython3",
   "version": "3.11.1"
  }
 },
 "nbformat": 4,
 "nbformat_minor": 2
}
