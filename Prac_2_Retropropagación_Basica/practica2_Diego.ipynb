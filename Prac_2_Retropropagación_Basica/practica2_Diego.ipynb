{
 "cells": [
  {
   "cell_type": "code",
   "execution_count": 1,
   "metadata": {},
   "outputs": [],
   "source": [
    "from __future__ import absolute_import, division, print_function\n",
    "import tensorflow as tf\n",
    "from tensorflow import keras\n",
    "import numpy as np\n",
    "\n",
    "\"\"\"**El siguiente código descarga el conjunto de datos IMDB a su máquina (o utiliza una copia en caché si ya lo ha descargado):**\"\"\"\n",
    "\n",
    "imdb = keras.datasets.imdb\n",
    "\n",
    "(train_data, train_labels), (test_data, test_labels) = imdb.load_data(num_words=10000)\n"
   ]
  },
  {
   "cell_type": "markdown",
   "metadata": {},
   "source": [
    "El conjunto de datos IMDB proporcionado por Keras está preprocesado: \n",
    "- <b>Tokenización </b>:  Las palabras en cada revisión se convierten en secuencias de números enteros, donde cada número entero representa una palabra en el vocabulario.\n",
    "- <b>Limitación del tamaño del vocabulario </b>: num_words=1000 ->  solo se consideran las 10,000 palabras más frecuentes en el conjunto de datos. Las palabras menos frecuentes se reemplazan con un token especial (?)"
   ]
  },
  {
   "cell_type": "code",
   "execution_count": 2,
   "metadata": {},
   "outputs": [
    {
     "name": "stdout",
     "output_type": "stream",
     "text": [
      "Training entries: 25000, Test Data: 25000\n",
      "[1, 14, 22, 16, 43, 530, 973, 1622, 1385, 65, 458, 4468, 66, 3941, 4, 173, 36, 256, 5, 25, 100, 43, 838, 112, 50, 670, 2, 9, 35, 480, 284, 5, 150, 4, 172, 112, 167, 2, 336, 385, 39, 4, 172, 4536, 1111, 17, 546, 38, 13, 447, 4, 192, 50, 16, 6, 147, 2025, 19, 14, 22, 4, 1920, 4613, 469, 4, 22, 71, 87, 12, 16, 43, 530, 38, 76, 15, 13, 1247, 4, 22, 17, 515, 17, 12, 16, 626, 18, 2, 5, 62, 386, 12, 8, 316, 8, 106, 5, 4, 2223, 5244, 16, 480, 66, 3785, 33, 4, 130, 12, 16, 38, 619, 5, 25, 124, 51, 36, 135, 48, 25, 1415, 33, 6, 22, 12, 215, 28, 77, 52, 5, 14, 407, 16, 82, 2, 8, 4, 107, 117, 5952, 15, 256, 4, 2, 7, 3766, 5, 723, 36, 71, 43, 530, 476, 26, 400, 317, 46, 7, 4, 2, 1029, 13, 104, 88, 4, 381, 15, 297, 98, 32, 2071, 56, 26, 141, 6, 194, 7486, 18, 4, 226, 22, 21, 134, 476, 26, 480, 5, 144, 30, 5535, 18, 51, 36, 28, 224, 92, 25, 104, 4, 226, 65, 16, 38, 1334, 88, 12, 16, 283, 5, 16, 4472, 113, 103, 32, 15, 16, 5345, 19, 178, 32]\n"
     ]
    },
    {
     "data": {
      "text/plain": [
       "(218, 189)"
      ]
     },
     "execution_count": 2,
     "metadata": {},
     "output_type": "execute_result"
    }
   ],
   "source": [
    "print(\"Training entries: {}, Test Data: {}\".format(len(train_data), len(test_data)))\n",
    "\n",
    "\"\"\"**El texto de las reseñas se ha convertido en números enteros, donde cada número entero representa una palabra específica en un diccionario. Este es el aspecto de la primera reseña:**\"\"\"\n",
    "print(train_data[0])\n",
    "\n",
    "\"\"\"*Las reseñas de las películas pueden tener distintas longitudes. El código siguiente muestra el número de palabras de la primera y la segunda crítica. Dado que las entradas de una red neuronal deben tener la misma longitud, tendremos que resolver esto más adelante.*\"\"\"\n",
    "\n",
    "len(train_data[0]), len(train_data[1])"
   ]
  },
  {
   "cell_type": "code",
   "execution_count": 3,
   "metadata": {},
   "outputs": [
    {
     "data": {
      "text/plain": [
       "\"<START> this film was just brilliant casting location scenery story direction everyone's really suited the part they played and you could just imagine being there robert <UNK> is an amazing actor and now the same being director <UNK> father came from the same scottish island as myself so i loved the fact there was a real connection with this film the witty remarks throughout the film were great it was just brilliant so much that i bought the film as soon as it was released for <UNK> and would recommend it to everyone to watch and the fly fishing was amazing really cried at the end it was so sad and you know what they say if you cry at a film it must have been good and this definitely was also <UNK> to the two little boy's that played the <UNK> of norman and paul they were just brilliant children are often left out of the <UNK> list i think because the stars that play them all grown up are such a big profile for the whole film but these children are amazing and should be praised for what they have done don't you think the whole story was so lovely because it was true and was someone's life after all that was shared with us all\""
      ]
     },
     "execution_count": 3,
     "metadata": {},
     "output_type": "execute_result"
    }
   ],
   "source": [
    "\"\"\"Volver a convertir los números enteros en palabras\n",
    "\n",
    "Puede ser útil saber cómo volver a convertir enteros en texto. Aquí, crearemos una función de ayuda para consultar un objeto diccionario que contenga el mapeo de entero a cadena:\n",
    "\"\"\"\n",
    "\n",
    "word_index = imdb.get_word_index()\n",
    "word_index = {k:(v+3) for k,v in word_index.items()}\n",
    "word_index[\"<PAD>\"] = 0\n",
    "word_index[\"<START>\"] = 1\n",
    "word_index[\"<UNK>\"] = 2  # unknown\n",
    "word_index[\"<UNUSED>\"] = 3\n",
    "\n",
    "reverse_word_index = dict([(value, key) for (key, value) in word_index.items()])\n",
    "\n",
    "def decode_review(text):\n",
    "    return ' '.join([reverse_word_index.get(i, '?') for i in text])\n",
    "\n",
    "\"\"\"Utilizar la función decode_review para mostrar el texto de la primera revisión:\"\"\"\n",
    "\n",
    "decode_review(train_data[0])"
   ]
  },
  {
   "cell_type": "markdown",
   "metadata": {},
   "source": [
    "- PAD con valor 0: Se usa para rellenar las secuencias y hacerlas todas de la misma longitud.\n",
    "- START con valor 1: Marca el inicio de una secuencia.\n",
    "- UNK con valor 2: Representa palabras desconocidas.\n",
    "- UNUSED con valor 3: Palabra no utilizada (no se usa en este contexto específico)."
   ]
  },
  {
   "cell_type": "code",
   "execution_count": 4,
   "metadata": {},
   "outputs": [
    {
     "name": "stdout",
     "output_type": "stream",
     "text": [
      "Longitudes:  256 256 \n",
      "\n",
      "[   1   14   22   16   43  530  973 1622 1385   65  458 4468   66 3941\n",
      "    4  173   36  256    5   25  100   43  838  112   50  670    2    9\n",
      "   35  480  284    5  150    4  172  112  167    2  336  385   39    4\n",
      "  172 4536 1111   17  546   38   13  447    4  192   50   16    6  147\n",
      " 2025   19   14   22    4 1920 4613  469    4   22   71   87   12   16\n",
      "   43  530   38   76   15   13 1247    4   22   17  515   17   12   16\n",
      "  626   18    2    5   62  386   12    8  316    8  106    5    4 2223\n",
      " 5244   16  480   66 3785   33    4  130   12   16   38  619    5   25\n",
      "  124   51   36  135   48   25 1415   33    6   22   12  215   28   77\n",
      "   52    5   14  407   16   82    2    8    4  107  117 5952   15  256\n",
      "    4    2    7 3766    5  723   36   71   43  530  476   26  400  317\n",
      "   46    7    4    2 1029   13  104   88    4  381   15  297   98   32\n",
      " 2071   56   26  141    6  194 7486   18    4  226   22   21  134  476\n",
      "   26  480    5  144   30 5535   18   51   36   28  224   92   25  104\n",
      "    4  226   65   16   38 1334   88   12   16  283    5   16 4472  113\n",
      "  103   32   15   16 5345   19  178   32    0    0    0    0    0    0\n",
      "    0    0    0    0    0    0    0    0    0    0    0    0    0    0\n",
      "    0    0    0    0    0    0    0    0    0    0    0    0    0    0\n",
      "    0    0    0    0]\n"
     ]
    }
   ],
   "source": [
    "\"\"\"**Dado que las críticas de películas deben tener la misma longitud, utilizar la función pad_sequences para estandarizar las longitudes.**\"\"\"\n",
    "\n",
    "train_data = keras.preprocessing.sequence.pad_sequences(train_data,\n",
    "                                                        value=word_index[\"<PAD>\"],\n",
    "                                                        padding='post',\n",
    "                                                        maxlen=256)\n",
    "\n",
    "test_data = keras.preprocessing.sequence.pad_sequences(test_data,\n",
    "                                                        value=word_index[\"<PAD>\"],\n",
    "                                                        padding='post',\n",
    "                                                        maxlen=256)\n",
    "\n",
    "print(\"Longitudes: \", len(train_data[0]), len(train_data[1]), \"\\n\")\n",
    "\n",
    "\"\"\"**Las contribuciones de mayor magnitud tienen un mayor impacto en la predicción del modelo.**\"\"\"\n",
    "\n",
    "print(train_data[0])"
   ]
  },
  {
   "cell_type": "code",
   "execution_count": 6,
   "metadata": {},
   "outputs": [],
   "source": [
    "\"\"\"Modelo propuesto\"\"\"\n",
    "\n",
    "vocab_size = 10000\n",
    "\n",
    "model = keras.Sequential()\n",
    "\n",
    "# recomendable el ranggo de: 50 y 300\n",
    "model.add(keras.layers.Embedding(vocab_size, 10))\n",
    "\n",
    "model.add(keras.layers.GlobalAveragePooling1D())\n",
    "model.add(keras.layers.Dense(16, activation=tf.nn.relu))\n",
    "model.add(keras.layers.Dense(1, activation=tf.nn.sigmoid))\n",
    "#model.summary()\n",
    "\n",
    "\"\"\"Configurar el modelo para utilizar un optimizador y una función de pérdida:\"\"\"\n",
    "\n",
    "model.compile(optimizer='adam',\n",
    "              loss='binary_crossentropy',\n",
    "              metrics=['acc'])\n"
   ]
  },
  {
   "cell_type": "markdown",
   "metadata": {},
   "source": [
    "- <b>Capa de Embedding: </b>  Esta capa se utiliza para convertir los números enteros (que representan las palabras en las críticas de películas) en vectores densos de longitud 16. El parámetro vocab_size especifica el tamaño del vocabulario, es decir, la cantidad de palabras únicas consideradas en el conjunto de datos (en este caso, se establece en 10,000). \n",
    "\n",
    "- <b>Capa de GlobalAveragePooling1D </b>  Se agrega esta capa para calcular el promedio global de las características en la dimensión temporal. Esto reduce la dimensionalidad de los datos y simplifica la tarea de clasificación.\n",
    "\n",
    "- <b>Capa Densa (Fully Connected)</b>  Esta capa densa tiene 16 unidades y utiliza la función de activación ReLU (Rectified Linear Unit). Las capas densas se utilizan para aprender patrones más complejos en los datos.as características en la dimensión temporal. Esto reduce la dimensionalidad de los datos y simplifica la tarea de clasificación.\n",
    "\n",
    "- <b>Capa de Salida</b>  Como se trata de un problema de clasificación binaria (sentimiento positivo o negativo), la activación sigmoide produce una salida en el rango [0, 1], que representa la probabilidad de que la revisión sea positiva.\n",
    "\n",
    "- <b>Compilación del Modelo</b> el modelo se compila con el optimizador Adam, que es un algoritmo de optimización popular para entrenar redes neuronales. La función de pérdida utilizada es binary_crossentropy, que es adecuada para problemas de clasificación binaria. Además, se especifica que se desea monitorear la precisión (acc) como métrica durante el entrenamiento."
   ]
  },
  {
   "cell_type": "code",
   "execution_count": 1,
   "metadata": {},
   "outputs": [
    {
     "ename": "NameError",
     "evalue": "name 'train_data' is not defined",
     "output_type": "error",
     "traceback": [
      "\u001b[1;31m---------------------------------------------------------------------------\u001b[0m",
      "\u001b[1;31mNameError\u001b[0m                                 Traceback (most recent call last)",
      "Cell \u001b[1;32mIn[1], line 3\u001b[0m\n\u001b[0;32m      1\u001b[0m \u001b[38;5;124;03m\"\"\"Pruebas\"\"\"\u001b[39;00m\n\u001b[1;32m----> 3\u001b[0m x_val \u001b[38;5;241m=\u001b[39m \u001b[43mtrain_data\u001b[49m[:\u001b[38;5;241m10000\u001b[39m]\n\u001b[0;32m      4\u001b[0m partial_x_train \u001b[38;5;241m=\u001b[39m train_data[\u001b[38;5;241m10000\u001b[39m:]\n\u001b[0;32m      6\u001b[0m y_val \u001b[38;5;241m=\u001b[39m train_labels[:\u001b[38;5;241m10000\u001b[39m]\n",
      "\u001b[1;31mNameError\u001b[0m: name 'train_data' is not defined"
     ]
    }
   ],
   "source": [
    "\"\"\"Pruebas\"\"\"\n",
    "\n",
    "x_val = train_data[:10000]\n",
    "partial_x_train = train_data[10000:]\n",
    "\n",
    "y_val = train_labels[:10000]\n",
    "partial_y_train = train_labels[10000:]\n",
    "\n",
    "\"\"\"Entrenamiento\"\"\"\n",
    "\n",
    "history = model.fit(partial_x_train,\n",
    "                    partial_y_train,\n",
    "                    epochs=20,\n",
    "                    batch_size=512,\n",
    "                    validation_data=(x_val, y_val),\n",
    "                    verbose=1)\n",
    "\n",
    "results = model.evaluate(test_data, test_labels)\n",
    "\n",
    "print(results)\n",
    "\n",
    "history_dict = history.history\n",
    "history_dict.keys()\n",
    "\n",
    "import matplotlib.pyplot as plt\n",
    "\n",
    "acc = history_dict['acc']\n",
    "val_acc = history_dict['val_acc']\n",
    "loss = history_dict['loss']\n",
    "val_loss = history_dict['val_loss']\n",
    "\n",
    "epochs = range(1, len(acc) + 1)\n",
    "\n",
    "import seaborn as sns\n",
    "import warnings\n",
    "warnings.filterwarnings('ignore')\n",
    "\n",
    "sns.set(style='darkgrid')\n",
    "plt.figure(figsize=(10, 6))\n",
    "sns.lineplot(x=epochs, y=loss, marker='o', label='Training loss')\n",
    "sns.lineplot(x=epochs, y=val_loss, marker='o', label='Validation loss')\n",
    "plt.title('Training and validation loss')\n",
    "plt.xlabel('Epochs')\n",
    "plt.ylabel('Loss')\n",
    "plt.legend()\n",
    "plt.show()\n",
    "plt.clf()  \n",
    "\n",
    "sns.set(style='darkgrid')\n",
    "plt.figure(figsize=(10, 6))\n",
    "sns.lineplot(x=epochs, y=acc, marker='o', label='Training acc')\n",
    "sns.lineplot(x=epochs, y=val_acc, marker='o', label='Validation acc')\n",
    "plt.title('Training and validation accuracy')\n",
    "plt.xlabel('Epochs')\n",
    "plt.ylabel('Accuracy')\n",
    "plt.legend()\n",
    "plt.show()\n",
    "\n",
    "\n"
   ]
  },
  {
   "cell_type": "code",
   "execution_count": 38,
   "metadata": {},
   "outputs": [
    {
     "name": "stdout",
     "output_type": "stream",
     "text": [
      "Epoch 1/20\n",
      "30/30 [==============================] - 2s 35ms/step - loss: 0.6918 - acc: 0.5685 - val_loss: 0.6898 - val_acc: 0.6188\n",
      "Epoch 2/20\n",
      "30/30 [==============================] - 1s 29ms/step - loss: 0.6860 - acc: 0.6976 - val_loss: 0.6821 - val_acc: 0.7263\n",
      "Epoch 3/20\n",
      "30/30 [==============================] - 1s 24ms/step - loss: 0.6741 - acc: 0.7367 - val_loss: 0.6673 - val_acc: 0.7384\n",
      "Epoch 4/20\n",
      "30/30 [==============================] - 1s 25ms/step - loss: 0.6528 - acc: 0.7655 - val_loss: 0.6428 - val_acc: 0.7605\n",
      "Epoch 5/20\n",
      "30/30 [==============================] - 1s 35ms/step - loss: 0.6205 - acc: 0.7946 - val_loss: 0.6084 - val_acc: 0.7856\n",
      "Epoch 6/20\n",
      "30/30 [==============================] - 1s 34ms/step - loss: 0.5792 - acc: 0.8066 - val_loss: 0.5677 - val_acc: 0.8024\n",
      "Epoch 7/20\n",
      "30/30 [==============================] - 1s 30ms/step - loss: 0.5321 - acc: 0.8284 - val_loss: 0.5241 - val_acc: 0.8180\n",
      "Epoch 8/20\n",
      "30/30 [==============================] - 1s 27ms/step - loss: 0.4845 - acc: 0.8433 - val_loss: 0.4818 - val_acc: 0.8306\n",
      "Epoch 9/20\n",
      "30/30 [==============================] - 1s 29ms/step - loss: 0.4395 - acc: 0.8585 - val_loss: 0.4465 - val_acc: 0.8407\n",
      "Epoch 10/20\n",
      "30/30 [==============================] - 1s 33ms/step - loss: 0.4002 - acc: 0.8711 - val_loss: 0.4135 - val_acc: 0.8489\n",
      "Epoch 11/20\n",
      "30/30 [==============================] - 1s 28ms/step - loss: 0.3666 - acc: 0.8805 - val_loss: 0.3880 - val_acc: 0.8557\n",
      "Epoch 12/20\n",
      "30/30 [==============================] - 1s 30ms/step - loss: 0.3387 - acc: 0.8885 - val_loss: 0.3673 - val_acc: 0.8622\n",
      "Epoch 13/20\n",
      "30/30 [==============================] - 1s 27ms/step - loss: 0.3148 - acc: 0.8943 - val_loss: 0.3510 - val_acc: 0.8674\n",
      "Epoch 14/20\n",
      "30/30 [==============================] - 1s 28ms/step - loss: 0.2949 - acc: 0.8994 - val_loss: 0.3373 - val_acc: 0.8713\n",
      "Epoch 15/20\n",
      "30/30 [==============================] - 1s 26ms/step - loss: 0.2772 - acc: 0.9043 - val_loss: 0.3268 - val_acc: 0.8738\n",
      "Epoch 16/20\n",
      "30/30 [==============================] - 1s 26ms/step - loss: 0.2616 - acc: 0.9105 - val_loss: 0.3180 - val_acc: 0.8776\n",
      "Epoch 17/20\n",
      "30/30 [==============================] - 1s 26ms/step - loss: 0.2476 - acc: 0.9147 - val_loss: 0.3107 - val_acc: 0.8796\n",
      "Epoch 18/20\n",
      "30/30 [==============================] - 1s 27ms/step - loss: 0.2351 - acc: 0.9201 - val_loss: 0.3054 - val_acc: 0.8797\n",
      "Epoch 19/20\n",
      "30/30 [==============================] - 1s 26ms/step - loss: 0.2241 - acc: 0.9235 - val_loss: 0.2999 - val_acc: 0.8817\n",
      "Epoch 20/20\n",
      "30/30 [==============================] - 1s 26ms/step - loss: 0.2134 - acc: 0.9247 - val_loss: 0.2959 - val_acc: 0.8819\n",
      "782/782 [==============================] - 2s 2ms/step - loss: 0.3090 - acc: 0.8746\n",
      "[0.3090062141418457, 0.8745999932289124]\n"
     ]
    },
    {
     "data": {
      "image/png": "[encoded data removed]",
      "text/plain": [
       "<Figure size 1000x600 with 1 Axes>"
      ]
     },
     "metadata": {},
     "output_type": "display_data"
    },
    {
     "data": {
      "text/plain": [
       "<Figure size 640x480 with 0 Axes>"
      ]
     },
     "metadata": {},
     "output_type": "display_data"
    }
   ],
   "source": [
    "\"\"\"Modelo propuesto\"\"\"\n",
    "\n",
    "vocab_size = 10000\n",
    "\n",
    "model = keras.Sequential()\n",
    "\n",
    "# recomendable el ranggo de: 50 y 300\n",
    "model.add(keras.layers.Embedding(vocab_size, 16))\n",
    "\n",
    "model.add(keras.layers.GlobalAveragePooling1D())\n",
    "model.add(keras.layers.Dense(16, activation=tf.nn.relu))\n",
    "model.add(keras.layers.Dense(1, activation=tf.nn.sigmoid))\n",
    "#model.summary()\n",
    "\n",
    "\"\"\"Configurar el modelo para utilizar un optimizador y una función de pérdida:\"\"\"\n",
    "\n",
    "model.compile(optimizer='adam',\n",
    "              loss='binary_crossentropy',\n",
    "              metrics=['acc'])\n",
    "\n",
    "\"\"\"Pruebas\"\"\"\n",
    "\n",
    "x_val = train_data[:10000]\n",
    "partial_x_train = train_data[10000:]\n",
    "\n",
    "y_val = train_labels[:10000]\n",
    "partial_y_train = train_labels[10000:]\n",
    "\n",
    "\"\"\"Entrenamiento\"\"\"\n",
    "\n",
    "history = model.fit(partial_x_train,\n",
    "                    partial_y_train,\n",
    "                    epochs=20,\n",
    "                    batch_size=512,\n",
    "                    validation_data=(x_val, y_val),\n",
    "                    verbose=1)\n",
    "\n",
    "results = model.evaluate(test_data, test_labels)\n",
    "\n",
    "print(results)\n",
    "\n",
    "history_dict = history.history\n",
    "history_dict.keys()\n",
    "\n",
    "import matplotlib.pyplot as plt\n",
    "\n",
    "acc = history_dict['acc']\n",
    "val_acc = history_dict['val_acc']\n",
    "loss = history_dict['loss']\n",
    "val_loss = history_dict['val_loss']\n",
    "\n",
    "epochs = range(1, len(acc) + 1)\n",
    "import seaborn as sns\n",
    "import warnings\n",
    "warnings.filterwarnings('ignore')\n",
    "\n",
    "sns.set(style='darkgrid')\n",
    "plt.figure(figsize=(10, 6))\n",
    "sns.lineplot(x=epochs, y=loss, marker='o', label='Training loss')\n",
    "sns.lineplot(x=epochs, y=val_loss, marker='o', label='Validation loss')\n",
    "plt.title('Training and validation loss')\n",
    "plt.xlabel('Epochs')\n",
    "plt.ylabel('Loss')\n",
    "plt.legend()\n",
    "plt.show()\n",
    "plt.clf()  \n",
    "\n",
    "sns.set(style='darkgrid')\n",
    "plt.figure(figsize=(10, 6))\n",
    "sns.lineplot(x=epochs, y=acc, marker='o', label='Training acc')\n",
    "sns.lineplot(x=epochs, y=val_acc, marker='o', label='Validation acc')\n",
    "plt.title('Training and validation accuracy')\n",
    "plt.xlabel('Epochs')\n",
    "plt.ylabel('Accuracy')\n",
    "plt.legend()\n",
    "plt.show()\n",
    "\n",
    "\n"
   ]
  },
  {
   "cell_type": "code",
   "execution_count": null,
   "metadata": {},
   "outputs": [],
   "source": []
  }
 ],
 "metadata": {
  "kernelspec": {
   "display_name": "Python 3",
   "language": "python",
   "name": "python3"
  },
  "language_info": {
   "codemirror_mode": {
    "name": "ipython",
    "version": 3
   },
   "file_extension": ".py",
   "mimetype": "text/x-python",
   "name": "python",
   "nbconvert_exporter": "python",
   "pygments_lexer": "ipython3",
   "version": "3.10.10"
  }
 },
 "nbformat": 4,
 "nbformat_minor": 2
}
