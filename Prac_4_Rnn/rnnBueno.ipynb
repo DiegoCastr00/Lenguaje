{
 "cells": [
  {
   "cell_type": "code",
   "execution_count": 1,
   "metadata": {},
   "outputs": [],
   "source": [
    "from pandas import read_csv\n",
    "import numpy as np\n",
    "from keras.models import Sequential\n",
    "from keras.layers import Dense, SimpleRNN\n",
    "from sklearn.preprocessing import MinMaxScaler\n",
    "from sklearn.metrics import mean_squared_error\n",
    "import math\n",
    "import matplotlib.pyplot as plt"
   ]
  },
  {
   "cell_type": "code",
   "execution_count": null,
   "metadata": {},
   "outputs": [],
   "source": [
    "def create_RNN(hidden_units, dense_units, input_shape, activation):\n",
    "    model = Sequential()\n",
    "    model.add(SimpleRNN(hidden_units, input_shape=input_shape,\n",
    "                        activation=activation[0]))\n",
    "    model.add(Dense(units=dense_units, activation=activation[1]))\n",
    "    model.compile(loss='mean_squared_error', optimizer='adam')\n",
    "    return model"
   ]
  },
  {
   "cell_type": "code",
   "execution_count": null,
   "metadata": {},
   "outputs": [],
   "source": [
    "demo_model = create_RNN(2, 1, (3,1), activation=['linear', 'linear'])\n",
    "\n",
    "wx = demo_model.get_weights()[0]\n",
    "wh = demo_model.get_weights()[1]\n",
    "bh = demo_model.get_weights()[2]\n",
    "wy = demo_model.get_weights()[3]\n",
    "by = demo_model.get_weights()[4]\n",
    "\n",
    "print('wx = ', wx, ' wh = ', wh, ' bh = ', bh, ' wy =', wy, 'by = ', by)\n",
    "\n",
    "x = np.array([1, 2, 3])\n",
    "# Remodelar la entrada al tamaño de muestra requerido x pasos_de_tiempo x características\n",
    "x_input = np.reshape(x,(1, 3, 1))\n",
    "y_pred_model = demo_model.predict(x_input)\n",
    "\n",
    "\n",
    "m = 2\n",
    "h0 = np.zeros(m)\n",
    "h1 = np.dot(x[0], wx) + h0 + bh\n",
    "h2 = np.dot(x[1], wx) + np.dot(h1,wh) + bh\n",
    "h3 = np.dot(x[2], wx) + np.dot(h2,wh) + bh\n",
    "o3 = np.dot(h3, wy) + by\n",
    "\n",
    "print('h1 = ', h1,'h2 = ', h2,'h3 = ', h3)\n",
    "\n",
    "print(\"Predicción de la red \", y_pred_model)\n",
    "print(\"Prediccion debida al procesamiento \", o3)"
   ]
  },
  {
   "cell_type": "code",
   "execution_count": null,
   "metadata": {},
   "outputs": [],
   "source": [
    "# El parámetro split_percent define la proporción de ejemplos de entrenamiento\n",
    "def get_train_test(url, split_percent=0.8):\n",
    "    df = read_csv(url, usecols=[1], engine='python')\n",
    "    data = np.array(df.values.astype('float32'))\n",
    "    scaler = MinMaxScaler(feature_range=(0, 1))\n",
    "    data = scaler.fit_transform(data).flatten()\n",
    "    n = len(data)\n",
    "    # Punto para dividir los datos en entrenamiento y prueba\n",
    "    split = int(n*split_percent)\n",
    "    train_data = data[range(split)]\n",
    "    test_data = data[split:]\n",
    "    return train_data, test_data, data\n",
    "\n",
    "sunspots_url = 'https://raw.githubusercontent.com/jbrownlee/Datasets/master/monthly-sunspots.csv'\n",
    "train_data, test_data, data = get_train_test(sunspots_url)"
   ]
  },
  {
   "cell_type": "code",
   "execution_count": null,
   "metadata": {},
   "outputs": [],
   "source": [
    "\n",
    "# Preparar la entrada X y el objetivo Y\n",
    "def get_XY(dat, time_steps):\n",
    "    # Indices del arreglo objetivo\n",
    "    Y_ind = np.arange(time_steps, len(dat), time_steps)\n",
    "    Y = dat[Y_ind]\n",
    "    # Preparar X\n",
    "    rows_x = len(Y)\n",
    "    X = dat[range(time_steps*rows_x)]\n",
    "    X = np.reshape(X, (rows_x, time_steps, 1))\n",
    "    return X, Y\n",
    "\n",
    "time_steps = 12\n",
    "trainX, trainY = get_XY(train_data, time_steps)\n",
    "testX, testY = get_XY(test_data, time_steps)\n",
    "\n",
    "model = create_RNN(hidden_units=3, dense_units=1, input_shape=(time_steps,1),\n",
    "                   activation=['tanh', 'tanh'])\n",
    "model.fit(trainX, trainY, epochs=20, batch_size=1, verbose=2)"
   ]
  },
  {
   "cell_type": "code",
   "execution_count": null,
   "metadata": {},
   "outputs": [],
   "source": [
    "def print_error(trainY, testY, train_predict, test_predict):\n",
    "    # Error of predictions\n",
    "    train_rmse = math.sqrt(mean_squared_error(trainY, train_predict))\n",
    "    test_rmse = math.sqrt(mean_squared_error(testY, test_predict))\n",
    "    # Print RMSE\n",
    "    print('Entrenamiento RMSE: %.3f RMSE' % (train_rmse))\n",
    "    print('Test RMSE: %.3f RMSE' % (test_rmse))\n",
    "\n",
    "# make predictions\n",
    "train_predict = model.predict(trainX)\n",
    "test_predict = model.predict(testX)\n",
    "# Mean square error"
   ]
  },
  {
   "cell_type": "code",
   "execution_count": null,
   "metadata": {},
   "outputs": [],
   "source": [
    "# Plot the result\n",
    "def plot_result(trainY, testY, train_predict, test_predict):\n",
    "    actual = np.append(trainY, testY)\n",
    "    predictions = np.append(train_predict, test_predict)\n",
    "    rows = len(actual)\n",
    "    plt.figure(figsize=(15, 6), dpi=80)\n",
    "    plt.plot(range(rows), actual)\n",
    "    plt.plot(range(rows), predictions)\n",
    "    plt.axvline(x=len(trainY), color='r')\n",
    "    plt.legend(['Actual', 'Prediccion'])\n",
    "    plt.xlabel('Número de observaciones tras determinados pasos temporales')\n",
    "    plt.ylabel('Manchas solares a escala')\n",
    "    plt.title('Valores reales y previstos. La línea roja separa los ejemplos de entrenamiento y de prueba')\n",
    "plot_result(trainY, testY, train_predict, test_predict)\n",
    "print_error(trainY, testY, train_predict, test_predict)"
   ]
  },
  {
   "cell_type": "code",
   "execution_count": null,
   "metadata": {},
   "outputs": [],
   "source": [
    "train_data, test_data, data = get_train_test(sunspots_url)\n",
    "\n",
    "time_steps = 10\n",
    "trainX, trainY = get_XY(train_data, time_steps)\n",
    "testX, testY = get_XY(test_data, time_steps)\n",
    "\n",
    "model = create_RNN(hidden_units=3, dense_units=1, input_shape=(time_steps,1),\n",
    "                   activation=['tanh', 'tanh'])\n",
    "\n",
    "model.fit(trainX, trainY, epochs=30, batch_size=1, verbose=2)\n",
    "\n",
    "train_predict = model.predict(trainX)\n",
    "test_predict = model.predict(testX)\n",
    "print_error(trainY, testY, train_predict, test_predict)\n",
    "plot_result(trainY, testY, train_predict, test_predict)\n"
   ]
  },
  {
   "cell_type": "code",
   "execution_count": null,
   "metadata": {},
   "outputs": [],
   "source": [
    "train_data, test_data, data = get_train_test(sunspots_url)\n",
    "\n",
    "time_steps = 10\n",
    "trainX, trainY = get_XY(train_data, time_steps)\n",
    "testX, testY = get_XY(test_data, time_steps)\n",
    "\n",
    "model = create_RNN(hidden_units=3, dense_units=1, input_shape=(time_steps,1),\n",
    "                   activation=['tanh', 'tanh'])\n",
    "\n",
    "model.fit(trainX, trainY, epochs=35, batch_size=1, verbose=2)\n",
    "\n",
    "train_predict = model.predict(trainX)\n",
    "test_predict = model.predict(testX)\n",
    "print_error(trainY, testY, train_predict, test_predict)\n",
    "plot_result(trainY, testY, train_predict, test_predict)"
   ]
  },
  {
   "cell_type": "code",
   "execution_count": null,
   "metadata": {},
   "outputs": [],
   "source": [
    "train_data, test_data, data = get_train_test(sunspots_url)\n",
    "\n",
    "time_steps = 10\n",
    "trainX, trainY = get_XY(train_data, time_steps)\n",
    "testX, testY = get_XY(test_data, time_steps)\n",
    "\n",
    "model = create_RNN(hidden_units=3, dense_units=1, input_shape=(time_steps,1),\n",
    "                   activation=['tanh', 'tanh'])\n",
    "\n",
    "model.fit(trainX, trainY, epochs=25, batch_size=1, verbose=2)\n",
    "\n",
    "train_predict = model.predict(trainX)\n",
    "test_predict = model.predict(testX)\n",
    "print_error(trainY, testY, train_predict, test_predict)\n",
    "plot_result(trainY, testY, train_predict, test_predict)"
   ]
  },
  {
   "cell_type": "code",
   "execution_count": null,
   "metadata": {},
   "outputs": [],
   "source": [
    "train_data, test_data, data = get_train_test(sunspots_url)\n",
    "\n",
    "time_steps = 10\n",
    "trainX, trainY = get_XY(train_data, time_steps)\n",
    "testX, testY = get_XY(test_data, time_steps)\n",
    "\n",
    "model = create_RNN(hidden_units=3, dense_units=1, input_shape=(time_steps,1),\n",
    "                   activation=['tanh', 'tanh'])\n",
    "\n",
    "model.fit(trainX, trainY, epochs=25, batch_size=1, verbose=2)\n",
    "\n",
    "train_predict = model.predict(trainX)\n",
    "test_predict = model.predict(testX)\n",
    "print_error(trainY, testY, train_predict, test_predict)\n",
    "plot_result(trainY, testY, train_predict, test_predict)"
   ]
  },
  {
   "cell_type": "code",
   "execution_count": null,
   "metadata": {},
   "outputs": [],
   "source": [
    "train_data, test_data, data = get_train_test(sunspots_url)\n",
    "\n",
    "time_steps = 10\n",
    "trainX, trainY = get_XY(train_data, time_steps)\n",
    "testX, testY = get_XY(test_data, time_steps)\n",
    "\n",
    "model = create_RNN(hidden_units=3, dense_units=1, input_shape=(time_steps,1),\n",
    "                   activation=['linear', 'linear'])\n",
    "\n",
    "model.fit(trainX, trainY, epochs=35, batch_size=1, verbose=2)\n",
    "\n",
    "train_predict = model.predict(trainX)\n",
    "test_predict = model.predict(testX)\n",
    "print_error(trainY, testY, train_predict, test_predict)\n",
    "plot_result(trainY, testY, train_predict, test_predict)"
   ]
  },
  {
   "cell_type": "code",
   "execution_count": null,
   "metadata": {},
   "outputs": [],
   "source": [
    "train_data, test_data, data = get_train_test(sunspots_url)\n",
    "\n",
    "time_steps = 10\n",
    "trainX, trainY = get_XY(train_data, time_steps)\n",
    "testX, testY = get_XY(test_data, time_steps)\n",
    "\n",
    "model = create_RNN(hidden_units=3, dense_units=1, input_shape=(time_steps,1),\n",
    "                   activation=['linear', 'linear'])\n",
    "\n",
    "model.fit(trainX, trainY, epochs=25, batch_size=1, verbose=2)\n",
    "\n",
    "train_predict = model.predict(trainX)\n",
    "test_predict = model.predict(testX)\n",
    "print_error(trainY, testY, train_predict, test_predict)\n",
    "plot_result(trainY, testY, train_predict, test_predict)"
   ]
  }
 ],
 "metadata": {
  "kernelspec": {
   "display_name": "Python 3",
   "language": "python",
   "name": "python3"
  },
  "language_info": {
   "codemirror_mode": {
    "name": "ipython",
    "version": 3
   },
   "file_extension": ".py",
   "mimetype": "text/x-python",
   "name": "python",
   "nbconvert_exporter": "python",
   "pygments_lexer": "ipython3",
   "version": "3.11.2"
  }
 },
 "nbformat": 4,
 "nbformat_minor": 2
}
