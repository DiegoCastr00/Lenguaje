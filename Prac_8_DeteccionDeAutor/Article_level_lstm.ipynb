{
  "cells": [
    {
      "cell_type": "code",
      "execution_count": 1,
      "metadata": {
        "colab": {
          "base_uri": "https://localhost:8080/"
        },
        "id": "pL9I7xRVJIJj",
        "outputId": "6b8e1ec2-385f-4de6-b54b-43747368538f"
      },
      "outputs": [
        {
          "name": "stdout",
          "output_type": "stream",
          "text": [
            "Requirement already satisfied: dill in c:\\users\\szmik\\appdata\\local\\programs\\python\\python311\\lib\\site-packages (0.3.8)\n"
          ]
        }
      ],
      "source": [
        "!pip install dill"
      ]
    },
    {
      "cell_type": "code",
      "execution_count": 3,
      "metadata": {
        "colab": {
          "base_uri": "https://localhost:8080/"
        },
        "id": "5MmcM4-MGjlu",
        "outputId": "3c88f636-83c2-4e4d-feab-c3e43fdd648c"
      },
      "outputs": [
        {
          "name": "stderr",
          "output_type": "stream",
          "text": [
            "[nltk_data] Downloading package wordnet to\n",
            "[nltk_data]     C:\\Users\\SZMik\\AppData\\Roaming\\nltk_data...\n",
            "[nltk_data]   Package wordnet is already up-to-date!\n",
            "[nltk_data] Downloading package punkt to\n",
            "[nltk_data]     C:\\Users\\SZMik\\AppData\\Roaming\\nltk_data...\n",
            "[nltk_data]   Package punkt is already up-to-date!\n"
          ]
        }
      ],
      "source": [
        "import pandas as pd\n",
        "import numpy as np\n",
        "import os\n",
        "import dill\n",
        "import pandas as pd\n",
        "import glob, csv\n",
        "import nltk\n",
        "from nltk.stem import WordNetLemmatizer\n",
        "nltk.download('wordnet')\n",
        "nltk.download('punkt') # Download this as this allows you to tokenize words in a string.\n",
        "lemmatizer = WordNetLemmatizer()\n",
        "\n",
        "\n",
        "import matplotlib.pyplot as plt\n",
        "from matplotlib.pyplot import figure\n",
        "import numpy as np\n",
        "import re\n",
        "import string\n",
        "import seaborn as sns\n",
        "from sklearn.preprocessing import StandardScaler"
      ]
    },
    {
      "cell_type": "markdown",
      "metadata": {
        "id": "ZTnOCB818CCp"
      },
      "source": [
        "Convert CSV to Dataframe"
      ]
    },
    {
      "cell_type": "code",
      "execution_count": 5,
      "metadata": {
        "colab": {
          "base_uri": "https://localhost:8080/"
        },
        "id": "dm6t8LlM4nRL",
        "outputId": "e3dbd4c9-c0ee-4fc3-c2e7-62a4aecb58bc"
      },
      "outputs": [],
      "source": [
        "# from google.colab import drive\n",
        "# drive.mount('/content/drive')"
      ]
    },
    {
      "cell_type": "code",
      "execution_count": 6,
      "metadata": {
        "id": "h666elWvGEad"
      },
      "outputs": [],
      "source": [
        "#convert csv to dataframe\n",
        "train_dataframe = pd.read_csv(\"Data/mega_train_70_30.csv\")"
      ]
    },
    {
      "cell_type": "code",
      "execution_count": 7,
      "metadata": {
        "id": "E7_k48s9HRpb"
      },
      "outputs": [],
      "source": [
        "test_dataframe = pd.read_csv(\"Data/mega_test_70_30.csv\")"
      ]
    },
    {
      "cell_type": "code",
      "execution_count": 8,
      "metadata": {
        "colab": {
          "base_uri": "https://localhost:8080/",
          "height": 206
        },
        "id": "DPDh-OpwGELf",
        "outputId": "4b8d0817-e4ab-4987-8cb8-0f04d324a217"
      },
      "outputs": [
        {
          "data": {
            "text/html": [
              "<div>\n",
              "<style scoped>\n",
              "    .dataframe tbody tr th:only-of-type {\n",
              "        vertical-align: middle;\n",
              "    }\n",
              "\n",
              "    .dataframe tbody tr th {\n",
              "        vertical-align: top;\n",
              "    }\n",
              "\n",
              "    .dataframe thead th {\n",
              "        text-align: right;\n",
              "    }\n",
              "</style>\n",
              "<table border=\"1\" class=\"dataframe\">\n",
              "  <thead>\n",
              "    <tr style=\"text-align: right;\">\n",
              "      <th></th>\n",
              "      <th>index</th>\n",
              "      <th>text</th>\n",
              "      <th>Author</th>\n",
              "    </tr>\n",
              "  </thead>\n",
              "  <tbody>\n",
              "    <tr>\n",
              "      <th>0</th>\n",
              "      <td>4138</td>\n",
              "      <td>An influential global research group is prepar...</td>\n",
              "      <td>AaronPressman</td>\n",
              "    </tr>\n",
              "    <tr>\n",
              "      <th>1</th>\n",
              "      <td>4477</td>\n",
              "      <td>When a company in California sells a book to a...</td>\n",
              "      <td>AaronPressman</td>\n",
              "    </tr>\n",
              "    <tr>\n",
              "      <th>2</th>\n",
              "      <td>2142</td>\n",
              "      <td>A bill to protect homeowners from paying unnec...</td>\n",
              "      <td>AaronPressman</td>\n",
              "    </tr>\n",
              "    <tr>\n",
              "      <th>3</th>\n",
              "      <td>2547</td>\n",
              "      <td>Legislation to dramatically relax U.S. export ...</td>\n",
              "      <td>AaronPressman</td>\n",
              "    </tr>\n",
              "    <tr>\n",
              "      <th>4</th>\n",
              "      <td>909</td>\n",
              "      <td>If the Board of Governors of the U.S. Federal ...</td>\n",
              "      <td>AaronPressman</td>\n",
              "    </tr>\n",
              "  </tbody>\n",
              "</table>\n",
              "</div>"
            ],
            "text/plain": [
              "   index                                               text         Author\n",
              "0   4138  An influential global research group is prepar...  AaronPressman\n",
              "1   4477  When a company in California sells a book to a...  AaronPressman\n",
              "2   2142  A bill to protect homeowners from paying unnec...  AaronPressman\n",
              "3   2547  Legislation to dramatically relax U.S. export ...  AaronPressman\n",
              "4    909  If the Board of Governors of the U.S. Federal ...  AaronPressman"
            ]
          },
          "execution_count": 8,
          "metadata": {},
          "output_type": "execute_result"
        }
      ],
      "source": [
        "train_dataframe.head()"
      ]
    },
    {
      "cell_type": "code",
      "execution_count": 9,
      "metadata": {
        "colab": {
          "base_uri": "https://localhost:8080/",
          "height": 206
        },
        "id": "5I4d23s4HgUl",
        "outputId": "43001365-8dad-447e-d8e9-a44cee28aaa9"
      },
      "outputs": [
        {
          "data": {
            "text/html": [
              "<div>\n",
              "<style scoped>\n",
              "    .dataframe tbody tr th:only-of-type {\n",
              "        vertical-align: middle;\n",
              "    }\n",
              "\n",
              "    .dataframe tbody tr th {\n",
              "        vertical-align: top;\n",
              "    }\n",
              "\n",
              "    .dataframe thead th {\n",
              "        text-align: right;\n",
              "    }\n",
              "</style>\n",
              "<table border=\"1\" class=\"dataframe\">\n",
              "  <thead>\n",
              "    <tr style=\"text-align: right;\">\n",
              "      <th></th>\n",
              "      <th>index</th>\n",
              "      <th>text</th>\n",
              "      <th>Author</th>\n",
              "      <th>hopeful_test</th>\n",
              "    </tr>\n",
              "  </thead>\n",
              "  <tbody>\n",
              "    <tr>\n",
              "      <th>0</th>\n",
              "      <td>3</td>\n",
              "      <td>Intuit Inc Wednesday launched its new, streaml...</td>\n",
              "      <td>BradDorfman</td>\n",
              "      <td>1</td>\n",
              "    </tr>\n",
              "    <tr>\n",
              "      <th>1</th>\n",
              "      <td>11</td>\n",
              "      <td>U.S. Undersecretary of State Lynn Davis has be...</td>\n",
              "      <td>ScottHillis</td>\n",
              "      <td>1</td>\n",
              "    </tr>\n",
              "    <tr>\n",
              "      <th>2</th>\n",
              "      <td>14</td>\n",
              "      <td>Australia's largest contruction group Leighton...</td>\n",
              "      <td>KevinMorrison</td>\n",
              "      <td>1</td>\n",
              "    </tr>\n",
              "    <tr>\n",
              "      <th>3</th>\n",
              "      <td>17</td>\n",
              "      <td>Canada's Barrick Gold Corp seems poised to sup...</td>\n",
              "      <td>HeatherScoffield</td>\n",
              "      <td>1</td>\n",
              "    </tr>\n",
              "    <tr>\n",
              "      <th>4</th>\n",
              "      <td>18</td>\n",
              "      <td>Czech President Vaclav Havel on Thursday said ...</td>\n",
              "      <td>JohnMastrini</td>\n",
              "      <td>1</td>\n",
              "    </tr>\n",
              "  </tbody>\n",
              "</table>\n",
              "</div>"
            ],
            "text/plain": [
              "   index                                               text            Author  \\\n",
              "0      3  Intuit Inc Wednesday launched its new, streaml...       BradDorfman   \n",
              "1     11  U.S. Undersecretary of State Lynn Davis has be...       ScottHillis   \n",
              "2     14  Australia's largest contruction group Leighton...     KevinMorrison   \n",
              "3     17  Canada's Barrick Gold Corp seems poised to sup...  HeatherScoffield   \n",
              "4     18  Czech President Vaclav Havel on Thursday said ...      JohnMastrini   \n",
              "\n",
              "   hopeful_test  \n",
              "0             1  \n",
              "1             1  \n",
              "2             1  \n",
              "3             1  \n",
              "4             1  "
            ]
          },
          "execution_count": 9,
          "metadata": {},
          "output_type": "execute_result"
        }
      ],
      "source": [
        "test_dataframe.head()"
      ]
    },
    {
      "cell_type": "markdown",
      "metadata": {
        "id": "mIgA0Cy88Gjp"
      },
      "source": [
        " Create new column with author number mappings for ML"
      ]
    },
    {
      "cell_type": "code",
      "execution_count": 10,
      "metadata": {
        "id": "XwbIawbCcke_"
      },
      "outputs": [],
      "source": [
        "# create new col with author number mappings for ML\n",
        "auth_sort = sorted(train_dataframe['Author'].unique())\n",
        "dictOfAuthors = { i : auth_sort[i] for i in range(0, len(auth_sort) ) }\n",
        "swap_dict = {value:key for key, value in dictOfAuthors.items()}\n",
        "train_dataframe['Author_num'] = train_dataframe['Author'].map(swap_dict)"
      ]
    },
    {
      "cell_type": "code",
      "execution_count": 11,
      "metadata": {
        "id": "O7-GzfXQHm05"
      },
      "outputs": [],
      "source": [
        "# create new col with author number mappings for ML\n",
        "auth_sort = sorted(test_dataframe['Author'].unique())\n",
        "dictOfAuthors = { i : auth_sort[i] for i in range(0, len(auth_sort) ) }\n",
        "swap_dict = {value:key for key, value in dictOfAuthors.items()}\n",
        "test_dataframe['Author_num'] = test_dataframe['Author'].map(swap_dict)"
      ]
    },
    {
      "cell_type": "code",
      "execution_count": 12,
      "metadata": {
        "colab": {
          "base_uri": "https://localhost:8080/",
          "height": 206
        },
        "id": "mVSYPRsbHB5g",
        "outputId": "3ec2c31b-14d8-4638-b240-1ff84c21f11a"
      },
      "outputs": [
        {
          "data": {
            "text/html": [
              "<div>\n",
              "<style scoped>\n",
              "    .dataframe tbody tr th:only-of-type {\n",
              "        vertical-align: middle;\n",
              "    }\n",
              "\n",
              "    .dataframe tbody tr th {\n",
              "        vertical-align: top;\n",
              "    }\n",
              "\n",
              "    .dataframe thead th {\n",
              "        text-align: right;\n",
              "    }\n",
              "</style>\n",
              "<table border=\"1\" class=\"dataframe\">\n",
              "  <thead>\n",
              "    <tr style=\"text-align: right;\">\n",
              "      <th></th>\n",
              "      <th>index</th>\n",
              "      <th>text</th>\n",
              "      <th>Author</th>\n",
              "      <th>Author_num</th>\n",
              "    </tr>\n",
              "  </thead>\n",
              "  <tbody>\n",
              "    <tr>\n",
              "      <th>0</th>\n",
              "      <td>4138</td>\n",
              "      <td>An influential global research group is prepar...</td>\n",
              "      <td>AaronPressman</td>\n",
              "      <td>0</td>\n",
              "    </tr>\n",
              "    <tr>\n",
              "      <th>1</th>\n",
              "      <td>4477</td>\n",
              "      <td>When a company in California sells a book to a...</td>\n",
              "      <td>AaronPressman</td>\n",
              "      <td>0</td>\n",
              "    </tr>\n",
              "    <tr>\n",
              "      <th>2</th>\n",
              "      <td>2142</td>\n",
              "      <td>A bill to protect homeowners from paying unnec...</td>\n",
              "      <td>AaronPressman</td>\n",
              "      <td>0</td>\n",
              "    </tr>\n",
              "    <tr>\n",
              "      <th>3</th>\n",
              "      <td>2547</td>\n",
              "      <td>Legislation to dramatically relax U.S. export ...</td>\n",
              "      <td>AaronPressman</td>\n",
              "      <td>0</td>\n",
              "    </tr>\n",
              "    <tr>\n",
              "      <th>4</th>\n",
              "      <td>909</td>\n",
              "      <td>If the Board of Governors of the U.S. Federal ...</td>\n",
              "      <td>AaronPressman</td>\n",
              "      <td>0</td>\n",
              "    </tr>\n",
              "  </tbody>\n",
              "</table>\n",
              "</div>"
            ],
            "text/plain": [
              "   index                                               text         Author  \\\n",
              "0   4138  An influential global research group is prepar...  AaronPressman   \n",
              "1   4477  When a company in California sells a book to a...  AaronPressman   \n",
              "2   2142  A bill to protect homeowners from paying unnec...  AaronPressman   \n",
              "3   2547  Legislation to dramatically relax U.S. export ...  AaronPressman   \n",
              "4    909  If the Board of Governors of the U.S. Federal ...  AaronPressman   \n",
              "\n",
              "   Author_num  \n",
              "0           0  \n",
              "1           0  \n",
              "2           0  \n",
              "3           0  \n",
              "4           0  "
            ]
          },
          "execution_count": 12,
          "metadata": {},
          "output_type": "execute_result"
        }
      ],
      "source": [
        "train_dataframe.head()"
      ]
    },
    {
      "cell_type": "code",
      "execution_count": 13,
      "metadata": {
        "colab": {
          "base_uri": "https://localhost:8080/",
          "height": 206
        },
        "id": "X84KZnR7Huxv",
        "outputId": "bb531aba-8989-4254-8db0-c7479be19bbd"
      },
      "outputs": [
        {
          "data": {
            "text/html": [
              "<div>\n",
              "<style scoped>\n",
              "    .dataframe tbody tr th:only-of-type {\n",
              "        vertical-align: middle;\n",
              "    }\n",
              "\n",
              "    .dataframe tbody tr th {\n",
              "        vertical-align: top;\n",
              "    }\n",
              "\n",
              "    .dataframe thead th {\n",
              "        text-align: right;\n",
              "    }\n",
              "</style>\n",
              "<table border=\"1\" class=\"dataframe\">\n",
              "  <thead>\n",
              "    <tr style=\"text-align: right;\">\n",
              "      <th></th>\n",
              "      <th>index</th>\n",
              "      <th>text</th>\n",
              "      <th>Author</th>\n",
              "      <th>hopeful_test</th>\n",
              "      <th>Author_num</th>\n",
              "    </tr>\n",
              "  </thead>\n",
              "  <tbody>\n",
              "    <tr>\n",
              "      <th>0</th>\n",
              "      <td>3</td>\n",
              "      <td>Intuit Inc Wednesday launched its new, streaml...</td>\n",
              "      <td>BradDorfman</td>\n",
              "      <td>1</td>\n",
              "      <td>5</td>\n",
              "    </tr>\n",
              "    <tr>\n",
              "      <th>1</th>\n",
              "      <td>11</td>\n",
              "      <td>U.S. Undersecretary of State Lynn Davis has be...</td>\n",
              "      <td>ScottHillis</td>\n",
              "      <td>1</td>\n",
              "      <td>43</td>\n",
              "    </tr>\n",
              "    <tr>\n",
              "      <th>2</th>\n",
              "      <td>14</td>\n",
              "      <td>Australia's largest contruction group Leighton...</td>\n",
              "      <td>KevinMorrison</td>\n",
              "      <td>1</td>\n",
              "      <td>23</td>\n",
              "    </tr>\n",
              "    <tr>\n",
              "      <th>3</th>\n",
              "      <td>17</td>\n",
              "      <td>Canada's Barrick Gold Corp seems poised to sup...</td>\n",
              "      <td>HeatherScoffield</td>\n",
              "      <td>1</td>\n",
              "      <td>12</td>\n",
              "    </tr>\n",
              "    <tr>\n",
              "      <th>4</th>\n",
              "      <td>18</td>\n",
              "      <td>Czech President Vaclav Havel on Thursday said ...</td>\n",
              "      <td>JohnMastrini</td>\n",
              "      <td>1</td>\n",
              "      <td>18</td>\n",
              "    </tr>\n",
              "  </tbody>\n",
              "</table>\n",
              "</div>"
            ],
            "text/plain": [
              "   index                                               text            Author  \\\n",
              "0      3  Intuit Inc Wednesday launched its new, streaml...       BradDorfman   \n",
              "1     11  U.S. Undersecretary of State Lynn Davis has be...       ScottHillis   \n",
              "2     14  Australia's largest contruction group Leighton...     KevinMorrison   \n",
              "3     17  Canada's Barrick Gold Corp seems poised to sup...  HeatherScoffield   \n",
              "4     18  Czech President Vaclav Havel on Thursday said ...      JohnMastrini   \n",
              "\n",
              "   hopeful_test  Author_num  \n",
              "0             1           5  \n",
              "1             1          43  \n",
              "2             1          23  \n",
              "3             1          12  \n",
              "4             1          18  "
            ]
          },
          "execution_count": 13,
          "metadata": {},
          "output_type": "execute_result"
        }
      ],
      "source": [
        "test_dataframe.head()"
      ]
    },
    {
      "cell_type": "code",
      "execution_count": 14,
      "metadata": {
        "id": "NfNJwXKRHFDd"
      },
      "outputs": [],
      "source": [
        "test_dataframe = test_dataframe.drop(columns='Author')\n",
        "train_dataframe = train_dataframe.drop(columns='Author')\n",
        "train_dataframe = train_dataframe.drop(columns='index')\n",
        "test_dataframe = test_dataframe.drop(columns='index')\n",
        "test_dataframe = test_dataframe.drop(columns='hopeful_test')"
      ]
    },
    {
      "cell_type": "code",
      "execution_count": 15,
      "metadata": {
        "id": "2pP2bAPkIINF"
      },
      "outputs": [],
      "source": [
        "list_to_choose_train = train_dataframe.text.apply(lambda x : len(x)) > 0\n",
        "train_df_article = train_dataframe[list_to_choose_train]"
      ]
    },
    {
      "cell_type": "code",
      "execution_count": 16,
      "metadata": {
        "colab": {
          "base_uri": "https://localhost:8080/"
        },
        "id": "wSVRy2XyIX_C",
        "outputId": "48e11a63-5987-4ed3-f39b-dbb7c8852e6a"
      },
      "outputs": [
        {
          "name": "stderr",
          "output_type": "stream",
          "text": [
            "C:\\Users\\SZMik\\AppData\\Local\\Temp\\ipykernel_8536\\2422686979.py:2: UserWarning: Boolean Series key will be reindexed to match DataFrame index.\n",
            "  test_df_article = test_dataframe[list_to_choose_train]\n"
          ]
        }
      ],
      "source": [
        "list_to_choose_test = test_dataframe.text.apply(lambda x : len(x)) > 0\n",
        "test_df_article = test_dataframe[list_to_choose_train]"
      ]
    },
    {
      "cell_type": "code",
      "execution_count": null,
      "metadata": {
        "id": "tLzAlOx2Ix7R"
      },
      "outputs": [],
      "source": [
        "train_df_article.to_csv(r'Data/train_7030.csv', index = False)"
      ]
    },
    {
      "cell_type": "code",
      "execution_count": null,
      "metadata": {
        "id": "s4ciQcUYNld4"
      },
      "outputs": [],
      "source": [
        "test_df_article.to_csv(r'Data/test_7030.csv', index = False)"
      ]
    },
    {
      "cell_type": "code",
      "execution_count": null,
      "metadata": {
        "colab": {
          "base_uri": "https://localhost:8080/",
          "height": 290
        },
        "id": "duHB4Y5MC91q",
        "outputId": "28bb295a-de67-4383-c57e-0f9921c6d0f2"
      },
      "outputs": [
        {
          "name": "stderr",
          "output_type": "stream",
          "text": [
            "/usr/local/lib/python3.10/dist-packages/torchtext/data/__init__.py:4: UserWarning: \n",
            "/!\\ IMPORTANT WARNING ABOUT TORCHTEXT STATUS /!\\ \n",
            "Torchtext is deprecated and the last released version will be 0.18 (this one). You can silence this warning by calling the following at the beginnign of your scripts: `import torchtext; torchtext.disable_torchtext_deprecation_warning()`\n",
            "  warnings.warn(torchtext._TORCHTEXT_DEPRECATION_MSG)\n"
          ]
        },
        {
          "ename": "AttributeError",
          "evalue": "module 'torchtext.data' has no attribute 'Field'",
          "output_type": "error",
          "traceback": [
            "\u001b[0;31m---------------------------------------------------------------------------\u001b[0m",
            "\u001b[0;31mAttributeError\u001b[0m                            Traceback (most recent call last)",
            "\u001b[0;32m<ipython-input-21-95c7256eb3bd>\u001b[0m in \u001b[0;36m<cell line: 3>\u001b[0;34m()\u001b[0m\n\u001b[1;32m      1\u001b[0m \u001b[0;32mimport\u001b[0m \u001b[0mtorch\u001b[0m\u001b[0;34m\u001b[0m\u001b[0;34m\u001b[0m\u001b[0m\n\u001b[1;32m      2\u001b[0m \u001b[0;32mfrom\u001b[0m \u001b[0mtorchtext\u001b[0m \u001b[0;32mimport\u001b[0m \u001b[0mdata\u001b[0m\u001b[0;34m\u001b[0m\u001b[0;34m\u001b[0m\u001b[0m\n\u001b[0;32m----> 3\u001b[0;31m \u001b[0mTEXT\u001b[0m \u001b[0;34m=\u001b[0m \u001b[0mdata\u001b[0m\u001b[0;34m.\u001b[0m\u001b[0mField\u001b[0m\u001b[0;34m(\u001b[0m\u001b[0msequential\u001b[0m\u001b[0;34m=\u001b[0m\u001b[0;32mTrue\u001b[0m\u001b[0;34m,\u001b[0m \u001b[0mtokenize\u001b[0m\u001b[0;34m=\u001b[0m\u001b[0;34m\"spacy\"\u001b[0m\u001b[0;34m,\u001b[0m \u001b[0mlower\u001b[0m\u001b[0;34m=\u001b[0m\u001b[0;32mTrue\u001b[0m\u001b[0;34m,\u001b[0m \u001b[0minclude_lengths\u001b[0m\u001b[0;34m=\u001b[0m\u001b[0;32mTrue\u001b[0m\u001b[0;34m)\u001b[0m\u001b[0;34m\u001b[0m\u001b[0;34m\u001b[0m\u001b[0m\n\u001b[0m\u001b[1;32m      4\u001b[0m \u001b[0mSCORE\u001b[0m \u001b[0;34m=\u001b[0m \u001b[0mdata\u001b[0m\u001b[0;34m.\u001b[0m\u001b[0mField\u001b[0m\u001b[0;34m(\u001b[0m\u001b[0msequential\u001b[0m\u001b[0;34m=\u001b[0m\u001b[0;32mFalse\u001b[0m\u001b[0;34m,\u001b[0m \u001b[0muse_vocab\u001b[0m\u001b[0;34m=\u001b[0m\u001b[0;32mFalse\u001b[0m\u001b[0;34m)\u001b[0m\u001b[0;34m\u001b[0m\u001b[0;34m\u001b[0m\u001b[0m\n",
            "\u001b[0;31mAttributeError\u001b[0m: module 'torchtext.data' has no attribute 'Field'"
          ]
        }
      ],
      "source": [
        "import torch\n",
        "from torchtext import data\n",
        "TEXT = data.Field(sequential=True, tokenize=\"spacy\", lower=True, include_lengths=True)\n",
        "SCORE = data.Field(sequential=False, use_vocab=False)"
      ]
    },
    {
      "cell_type": "markdown",
      "metadata": {
        "id": "GEntQg1R8ORe"
      },
      "source": [
        "Utilizing Datafields"
      ]
    },
    {
      "cell_type": "code",
      "execution_count": null,
      "metadata": {
        "colab": {
          "base_uri": "https://localhost:8080/",
          "height": 216
        },
        "id": "Vc2fdzmmC9yT",
        "outputId": "67c60244-9a9e-42ce-8ec0-21c8bf6b370d"
      },
      "outputs": [
        {
          "ename": "NameError",
          "evalue": "name 'TEXT' is not defined",
          "output_type": "error",
          "traceback": [
            "\u001b[0;31m---------------------------------------------------------------------------\u001b[0m",
            "\u001b[0;31mNameError\u001b[0m                                 Traceback (most recent call last)",
            "\u001b[0;32m<ipython-input-22-f1d2354295c8>\u001b[0m in \u001b[0;36m<cell line: 1>\u001b[0;34m()\u001b[0m\n\u001b[0;32m----> 1\u001b[0;31m datafields = [(\"text\", TEXT),\n\u001b[0m\u001b[1;32m      2\u001b[0m               (\"Author_num\", SCORE)]\n\u001b[1;32m      3\u001b[0m \u001b[0;34m\u001b[0m\u001b[0m\n\u001b[1;32m      4\u001b[0m train= data.TabularDataset(\n\u001b[1;32m      5\u001b[0m     \u001b[0mpath\u001b[0m\u001b[0;34m=\u001b[0m\u001b[0;34m'/content/drive/My Drive/DATA/train_7030.csv'\u001b[0m\u001b[0;34m,\u001b[0m\u001b[0;34m\u001b[0m\u001b[0;34m\u001b[0m\u001b[0m\n",
            "\u001b[0;31mNameError\u001b[0m: name 'TEXT' is not defined"
          ]
        }
      ],
      "source": [
        "datafields = [(\"text\", TEXT),\n",
        "              (\"Author_num\", SCORE)]\n",
        "\n",
        "train= data.TabularDataset(\n",
        "    path='Data/train_7030.csv',\n",
        "    format='csv',fields=datafields,skip_header = True)\n",
        "\n",
        "val = data.TabularDataset(\n",
        "    path='Data/test_7030.csv',\n",
        "    format='csv',fields=datafields,skip_header = True)"
      ]
    },
    {
      "cell_type": "code",
      "execution_count": null,
      "metadata": {
        "id": "G3Egk-dCC9tG"
      },
      "outputs": [],
      "source": [
        "from torchtext import vocab\n",
        "from torchtext.vocab import GloVe\n",
        "TEXT.build_vocab(train, val, min_freq = 3, vectors=GloVe(name='6B', dim=100))"
      ]
    },
    {
      "cell_type": "markdown",
      "metadata": {
        "id": "Tl7olIk58RC4"
      },
      "source": [
        "**Iterators**"
      ]
    },
    {
      "cell_type": "code",
      "execution_count": null,
      "metadata": {
        "id": "JX9cnPJxC9my"
      },
      "outputs": [],
      "source": [
        "device = torch.device('cuda:0')\n",
        "BATCH_SIZE = 64\n",
        "train_iterator = data.BucketIterator(\n",
        "    train,\n",
        "    batch_size = BATCH_SIZE,\n",
        "    sort_key = lambda x: len(x.text),\n",
        "    sort_within_batch = True,\n",
        "    repeat=False,\n",
        "    shuffle=True,\n",
        "    device = device)\n",
        "\n",
        "val_iterator = data.BucketIterator(\n",
        "    val,\n",
        "    batch_size = BATCH_SIZE,\n",
        "    sort=False,\n",
        "    sort_key = lambda x: len(x.text),\n",
        "    sort_within_batch = True,\n",
        "    repeat=False,\n",
        "    shuffle=False,\n",
        "    device = device)"
      ]
    },
    {
      "cell_type": "code",
      "execution_count": null,
      "metadata": {
        "id": "6YOmpexeC9bK"
      },
      "outputs": [],
      "source": [
        "import os\n",
        "import torch\n",
        "import torch.nn as nn\n",
        "import torch.nn.functional as F\n",
        "import random\n",
        "import numpy as np\n",
        "import matplotlib\n",
        "import pandas as pd\n",
        "import dill\n",
        "import random\n",
        "import torch.optim as optim\n",
        "import matplotlib.pyplot as plt"
      ]
    },
    {
      "cell_type": "markdown",
      "metadata": {
        "id": "g_UbebcR8cTU"
      },
      "source": [
        "**Network Architecture**"
      ]
    },
    {
      "cell_type": "code",
      "execution_count": null,
      "metadata": {
        "id": "xWxuWtQhEejS"
      },
      "outputs": [],
      "source": [
        "class AuthorClassifier(nn.Module):\n",
        "\n",
        "    def __init__(self, mode, output_size, hidden_size, vocab_size, embedding_length, word_embeddings):\n",
        "      super(AuthorClassifier, self).__init__()\n",
        "\n",
        "      if mode not in ['rnn', 'lstm', 'gru', 'bilstm']:\n",
        "        raise ValueError(\"Choose a mode from - rnn / lstm / gru / bilstm\")\n",
        "\n",
        "      self.mode = mode\n",
        "      self.output_size = output_size\n",
        "      self.hidden_size = hidden_size\n",
        "      self.vocab_size = vocab_size\n",
        "      self.embedding_length = embedding_length\n",
        "      self.embedding = nn.Embedding(self.vocab_size,self.embedding_length)\n",
        "      self.embedding.weight = nn.Parameter(word_embeddings,requires_grad = False)\n",
        "\n",
        "\n",
        "\n",
        "\n",
        "\n",
        "      if self.mode == 'rnn':\n",
        "        self.network = nn.RNN(self.embedding_length,self.hidden_size)\n",
        "      elif self.mode == 'lstm':\n",
        "        self.network = nn.LSTM(self.embedding_length,self.hidden_size)\n",
        "      elif self.mode == 'gru':\n",
        "        self.network = nn.GRU(self.embedding_length,self.hidden_size)\n",
        "      elif self.mode == 'bilstm':\n",
        "        self.network = nn.LSTM(self.embedding_length,self.hidden_size,bidirectional = True)\n",
        "\n",
        "\n",
        "      self.fclayer = nn.Linear(self.hidden_size,self.output_size)\n",
        "\n",
        "\n",
        "    def forward(self, text, text_lengths):\n",
        "      text_embeddings = self.embedding(text)\n",
        "      pack_sequence = nn.utils.rnn.pack_padded_sequence(text_embeddings,text_lengths)\n",
        "\n",
        "      if self.mode in ('lstm','bilstm'):\n",
        "        a,(hidden,cell) = self.network(pack_sequence)\n",
        "        if self.mode == 'bilstm':\n",
        "          hidden = hidden[0,:,:]+ hidden[1,:,:]\n",
        "      else:\n",
        "        a,hidden = self.network(pack_sequence)\n",
        "      hidden = hidden.squeeze(0)\n",
        "      pred = self.fclayer(hidden)\n",
        "      return pred"
      ]
    },
    {
      "cell_type": "markdown",
      "metadata": {
        "id": "Rq0xSL0M8kvD"
      },
      "source": [
        "**Training and testing models**"
      ]
    },
    {
      "cell_type": "code",
      "execution_count": null,
      "metadata": {
        "id": "kWY-eX4ZEef8"
      },
      "outputs": [],
      "source": [
        "import sklearn\n",
        "import numpy as np\n",
        "import matplotlib.pyplot as plt\n",
        "from sklearn.model_selection import train_test_split\n",
        "from sklearn.metrics import plot_confusion_matrix\n",
        "\n",
        "def train_classifier(model, dataset_iterator, loss_function, optimizer, num_epochs, log = \"runs\", verbose = False, recurrent = True):\n",
        "  writer = SummaryWriter(log_dir=log)\n",
        "  model.train()\n",
        "  step = 0\n",
        "  f1score_train = []\n",
        "  accuracy_train = []\n",
        "  loss_train = []\n",
        "  for epoch in range(num_epochs):\n",
        "    correct = 0\n",
        "    total = 0\n",
        "    total_loss = 0\n",
        "    f1 = 0\n",
        "    f1_step = 0\n",
        "\n",
        "    for batch in dataset_iterator:\n",
        "      comment, comment_lengths = batch.text\n",
        "      labels = batch.Author_num\n",
        "\n",
        "      batch_size = len(labels)\n",
        "      optimizer.zero_grad()\n",
        "      output = model(comment, comment_lengths).squeeze(0)\n",
        "\n",
        "      loss = loss_function(output, labels.long())\n",
        "      loss.backward()\n",
        "      nn.utils.clip_grad_norm(model.parameters(),0.5)\n",
        "      optimizer.step()\n",
        "\n",
        "      pred = torch.max(output.data,1).indices\n",
        "      f1 += sklearn.metrics.f1_score((labels.cpu()).numpy(), (pred.cpu()).numpy(),average= 'macro')\n",
        "      correct += (torch.sum(pred == labels)).item()\n",
        "      total += len(labels)\n",
        "      total_loss += loss.item()\n",
        "      f1_step += 1\n",
        "\n",
        "      if ((step % 100) == 0):\n",
        "        writer.add_scalar(\"Loss/train\", total_loss/total, step)\n",
        "        writer.add_scalar(\"Acc/train\", correct/total, step)\n",
        "        writer.add_scalar(\"F1 Score/train\", f1/f1_step, step)\n",
        "\n",
        "      step = step+1\n",
        "    f1score_train.append(f1/f1_step)\n",
        "    loss_train.append(total_loss/total)\n",
        "    accuracy_train.append(correct/total)\n",
        "    print('---Training statistics---',\"Epoch: %s Acc: %s Loss: %s\"%(epoch+1, correct/total, total_loss/total),'F1 Score:',f1/f1_step,)\n",
        "\n",
        "  return loss_train,f1score_train,accuracy_train\n",
        "\n",
        "def evaluate_classifier(model, dataset_iterator, loss_function, recurrent = True):\n",
        "  model.eval()\n",
        "\n",
        "  correct = 0\n",
        "  total = 0\n",
        "  total_loss = 0\n",
        "  overall_pred = []\n",
        "  overall_label = []\n",
        "  accuracy_test = []\n",
        "  loss_test = []\n",
        "  f1_step = 0\n",
        "  f1 = 0\n",
        "\n",
        "  for batch in dataset_iterator:\n",
        "    comment, comment_lengths = batch.text\n",
        "    labels = batch.Author_num\n",
        "    output = model(comment, comment_lengths).squeeze(0)\n",
        "    loss = loss_function(output, labels.long())\n",
        "    pred = torch.max(output.data,1).indices\n",
        "    correct += (torch.sum(pred == labels)).item()\n",
        "    total += len(labels)\n",
        "    total_loss += loss.item()\n",
        "    ap = pred.cpu()\n",
        "    a = np.asarray(ap)\n",
        "    labels = labels.cpu()\n",
        "    b = np.asarray(labels)\n",
        "    f1_step += 1\n",
        "    overall_pred.append(a)\n",
        "    overall_label.append(b)\n",
        "\n",
        "  overall_p= [val for sublist in overall_pred for val in sublist]\n",
        "  overall_l = [val for sublist in overall_label for val in sublist]\n",
        "  f1ss = sklearn.metrics.f1_score(overall_l,overall_p,average= 'macro')\n",
        "  accuracy_test.append(correct/total)\n",
        "  loss_test.append(total_loss/total)\n",
        "  print(\"Validation statistics: Acc: %s Loss: %s\"%(correct/total, total_loss/total),'F1 Score:',f1ss)\n",
        "  return overall_pred,overall_label,accuracy_test,f1ss,loss_test"
      ]
    },
    {
      "cell_type": "markdown",
      "metadata": {
        "id": "nKTHJw5x8o4C"
      },
      "source": [
        "LSTM"
      ]
    },
    {
      "cell_type": "code",
      "execution_count": null,
      "metadata": {
        "id": "AVtyn5ZMEec-"
      },
      "outputs": [],
      "source": [
        "#LSTM\n",
        "import matplotlib.pyplot as plt\n",
        "import seaborn as sns\n",
        "\n",
        "from torch.utils.tensorboard import SummaryWriter\n",
        "plt.figure(figsize = (10,10))\n",
        "\n",
        "\n",
        "output_size = 50\n",
        "hidden_size = 300\n",
        "vocab_size = len(TEXT.vocab)\n",
        "embedding_length = 100\n",
        "word_embeddings = TEXT.vocab.vectors\n",
        "num_epochs = 1\n",
        "mode = 'lstm'\n",
        "\n",
        "model = AuthorClassifier(mode, output_size, hidden_size, vocab_size, embedding_length, word_embeddings)\n",
        "model = model.to(device)\n",
        "\n",
        "\n",
        "loss_function = nn.CrossEntropyLoss()\n",
        "\n",
        "optimizer = torch.optim.Adam(model.parameters(), lr=1e-2)\n",
        "log_dir = 'runs/lstm1'\n",
        "final_acc_train_lstm  = []\n",
        "final_loss_train_lstm = []\n",
        "final_loss_test_lstm = []\n",
        "final_acc_test_lstm = []\n",
        "final_f1score_train_lstm = []\n",
        "final_f1score_test_lstm = []\n",
        "\n",
        "\n",
        "for multi in range(20):\n",
        "  loss_train,f1score,accs = train_classifier(model, train_iterator, loss_function, optimizer, log = log_dir, num_epochs = num_epochs)\n",
        "  overall_pred,overall_label,accs_test,f1ss,loss_test = evaluate_classifier(model, val_iterator, loss_function)\n",
        "  final_acc_train_lstm.append(accs[0])\n",
        "  final_acc_test_lstm.append(accs_test[0])\n",
        "  final_f1score_train_lstm.append(f1score[0])\n",
        "  final_f1score_test_lstm.append(f1ss)\n",
        "  final_loss_train_lstm.append(loss_train[0])\n",
        "  final_loss_test_lstm.append(loss_test[0])\n",
        "\n",
        "cf = np.zeros((50,50))\n",
        "\n",
        "overall_pred = [val for sublist in overall_pred for val in sublist]\n",
        "\n",
        "overall_label = [val for sublist in overall_label for val in sublist]\n",
        "\n",
        "ziplist = list(zip(overall_label,overall_pred))\n",
        "for coordinate in ziplist:\n",
        "  cf[coordinate]+=1\n",
        "ax = sns.heatmap(cf,annot=True)"
      ]
    },
    {
      "cell_type": "markdown",
      "metadata": {
        "id": "Koat6Teg8raP"
      },
      "source": [
        "GRU"
      ]
    },
    {
      "cell_type": "code",
      "execution_count": null,
      "metadata": {
        "id": "3uUbdKvcyeLx"
      },
      "outputs": [],
      "source": [
        "#GRU\n",
        "import matplotlib.pyplot as plt\n",
        "import seaborn as sns\n",
        "\n",
        "from torch.utils.tensorboard import SummaryWriter\n",
        "plt.figure(figsize = (10,10))\n",
        "\n",
        "\n",
        "\n",
        "output_size = 50\n",
        "hidden_size = 300\n",
        "vocab_size = len(TEXT.vocab)\n",
        "embedding_length = 100\n",
        "word_embeddings = TEXT.vocab.vectors\n",
        "num_epochs = 1\n",
        "mode = 'gru'\n",
        "\n",
        "model = AuthorClassifier(mode, output_size, hidden_size, vocab_size, embedding_length, word_embeddings)\n",
        "model = model.to(device)\n",
        "\n",
        "\n",
        "loss_function = nn.CrossEntropyLoss()\n",
        "\n",
        "optimizer = torch.optim.Adam(model.parameters(), lr=1e-2)\n",
        "log_dir = 'runs/gru'\n",
        "final_acc_train_gru  = []\n",
        "final_acc_test_gru = []\n",
        "final_f1score_train_gru = []\n",
        "final_f1score_test_gru = []\n",
        "final_loss_train_gru = []\n",
        "final_loss_test_gru = []\n",
        "\n",
        "for multi in range(20):\n",
        "  loss_train,f1score,accs = train_classifier(model, train_iterator, loss_function, optimizer, log = log_dir, num_epochs = num_epochs)\n",
        "  overall_pred,overall_label,accs_test,f1ss,loss_test = evaluate_classifier(model, val_iterator, loss_function)\n",
        "  final_acc_train_gru.append(accs[0])\n",
        "  final_loss_train_gru.append(loss_train[0])\n",
        "  final_acc_test_gru.append(accs_test[0])\n",
        "  final_f1score_train_gru.append(f1score[0])\n",
        "  final_f1score_test_gru.append(f1ss)\n",
        "  final_loss_test_gru.append(loss_test[0])\n",
        "\n",
        "\n",
        "cf = np.zeros((50,50))\n",
        "\n",
        "overall_pred = [val for sublist in overall_pred for val in sublist]\n",
        "\n",
        "overall_label = [val for sublist in overall_label for val in sublist]\n",
        "\n",
        "ziplist = list(zip(overall_label,overall_pred))\n",
        "for coordinate in ziplist:\n",
        "  cf[coordinate]+=1\n",
        "ax = sns.heatmap(cf,annot=True)"
      ]
    },
    {
      "cell_type": "markdown",
      "metadata": {
        "id": "Z7KWH57c8tKE"
      },
      "source": [
        "BiLSTM"
      ]
    },
    {
      "cell_type": "code",
      "execution_count": null,
      "metadata": {
        "id": "o7RNoHqC5784"
      },
      "outputs": [],
      "source": [
        "#bilstm\n",
        "import matplotlib.pyplot as plt\n",
        "import seaborn as sns\n",
        "\n",
        "from torch.utils.tensorboard import SummaryWriter\n",
        "plt.figure(figsize = (10,10))\n",
        "\n",
        "\n",
        "\n",
        "output_size = 50\n",
        "hidden_size = 300\n",
        "vocab_size = len(TEXT.vocab)\n",
        "embedding_length = 100\n",
        "word_embeddings = TEXT.vocab.vectors\n",
        "num_epochs = 1\n",
        "mode = 'bilstm'\n",
        "\n",
        "model = AuthorClassifier(mode, output_size, hidden_size, vocab_size, embedding_length, word_embeddings)\n",
        "model = model.to(device)\n",
        "\n",
        "\n",
        "loss_function = nn.CrossEntropyLoss()\n",
        "\n",
        "optimizer = torch.optim.Adam(model.parameters(), lr=1e-2)\n",
        "log_dir = 'runs/bilstm'\n",
        "final_acc_train_bilstm  = []\n",
        "final_acc_test_bilstm = []\n",
        "final_f1score_train_bilstm = []\n",
        "final_f1score_test_bilstm = []\n",
        "final_loss_train_bilstm = []\n",
        "final_loss_test_bilstm = []\n",
        "\n",
        "for multi in range(20):\n",
        "  loss_train,f1score,accs = train_classifier(model, train_iterator, loss_function, optimizer, log = log_dir, num_epochs = num_epochs)\n",
        "  overall_pred,overall_label,accs_test,f1ss,loss_test = evaluate_classifier(model, val_iterator, loss_function)\n",
        "  final_acc_train_bilstm.append(accs[0])\n",
        "  final_loss_train_bilstm.append(loss_train[0])\n",
        "  final_acc_test_bilstm.append(accs_test[0])\n",
        "  final_f1score_train_bilstm.append(f1score[0])\n",
        "  final_f1score_test_bilstm.append(f1ss)\n",
        "  final_loss_test_bilstm.append(loss_test[0])\n",
        "\n",
        "\n",
        "cf = np.zeros((50,50))\n",
        "\n",
        "overall_pred = [val for sublist in overall_pred for val in sublist]\n",
        "\n",
        "overall_label = [val for sublist in overall_label for val in sublist]\n",
        "\n",
        "ziplist = list(zip(overall_label,overall_pred))\n",
        "for coordinate in ziplist:\n",
        "  cf[coordinate]+=1\n",
        "ax = sns.heatmap(cf,annot=True)"
      ]
    },
    {
      "cell_type": "markdown",
      "metadata": {
        "id": "0kR2Epg98xMl"
      },
      "source": [
        "Plot - Accuracy"
      ]
    },
    {
      "cell_type": "code",
      "execution_count": null,
      "metadata": {
        "colab": {
          "base_uri": "https://localhost:8080/",
          "height": 542
        },
        "id": "8LVYNRup6-Yl",
        "outputId": "7b405481-b7e4-462f-fbe9-f5267dd8eeea"
      },
      "outputs": [
        {
          "data": {
            "text/html": [
              "<html>\n",
              "<head><meta charset=\"utf-8\" /></head>\n",
              "<body>\n",
              "    <div>\n",
              "            <script src=\"https://cdnjs.cloudflare.com/ajax/libs/mathjax/2.7.5/MathJax.js?config=TeX-AMS-MML_SVG\"></script><script type=\"text/javascript\">if (window.MathJax) {MathJax.Hub.Config({SVG: {font: \"STIX-Web\"}});}</script>\n",
              "                <script type=\"text/javascript\">window.PlotlyConfig = {MathJaxConfig: 'local'};</script>\n",
              "        <script src=\"https://cdn.plot.ly/plotly-latest.min.js\"></script>    \n",
              "            <div id=\"8a6aff39-8d27-48a2-bcb8-02d3075dd8be\" class=\"plotly-graph-div\" style=\"height:525px; width:100%;\"></div>\n",
              "            <script type=\"text/javascript\">\n",
              "                \n",
              "                    window.PLOTLYENV=window.PLOTLYENV || {};\n",
              "                    \n",
              "                if (document.getElementById(\"8a6aff39-8d27-48a2-bcb8-02d3075dd8be\")) {\n",
              "                    Plotly.newPlot(\n",
              "                        '8a6aff39-8d27-48a2-bcb8-02d3075dd8be',\n",
              "                        [{\"connectgaps\": true, \"marker\": {\"color\": \"rgba(128, 0, 0, 0.9)\"}, \"name\": \"Training accuracy lstm\", \"type\": \"scatter\", \"y\": [0.14057142857142857, 0.2642857142857143, 0.342, 0.43942857142857145, 0.5131428571428571, 0.5691428571428572, 0.6228571428571429, 0.6817142857142857, 0.7534285714285714, 0.7982857142857143, 0.8382857142857143, 0.88, 0.906, 0.9225714285714286, 0.94, 0.9522857142857143, 0.966, 0.9731428571428572, 0.9788571428571429, 0.9777142857142858]}, {\"connectgaps\": true, \"marker\": {\"color\": \"rgba(255, 0, 0, 0.9)\"}, \"name\": \"Testing accuracy lstm\", \"type\": \"scatter\", \"y\": [0.22333333333333333, 0.2986666666666667, 0.36533333333333334, 0.45066666666666666, 0.5013333333333333, 0.5233333333333333, 0.5466666666666666, 0.5766666666666667, 0.6073333333333333, 0.62, 0.6253333333333333, 0.6093333333333333, 0.6313333333333333, 0.6406666666666667, 0.646, 0.6586666666666666, 0.6686666666666666, 0.654, 0.6613333333333333, 0.6513333333333333]}, {\"connectgaps\": true, \"marker\": {\"color\": \"rgba(0, 128, 0, 0.9)\"}, \"name\": \"Training accuracy gru\", \"type\": \"scatter\", \"y\": [0.196, 0.47828571428571426, 0.6694285714285715, 0.79, 0.868, 0.9137142857142857, 0.9217142857142857, 0.9377142857142857, 0.9405714285714286, 0.9174285714285715, 0.8934285714285715, 0.8234285714285714, 0.7794285714285715, 0.5674285714285714, 0.648, 0.7102857142857143, 0.594, 0.612, 0.6042857142857143, 0.6125714285714285]}, {\"connectgaps\": true, \"marker\": {\"color\": \"rgba(0, 255, 0, 0.9)\"}, \"name\": \"Testing accuracy gru\", \"type\": \"scatter\", \"y\": [0.37466666666666665, 0.56, 0.6553333333333333, 0.6786666666666666, 0.7173333333333334, 0.708, 0.7173333333333334, 0.7293333333333333, 0.7013333333333334, 0.6733333333333333, 0.6226666666666667, 0.654, 0.5013333333333333, 0.46, 0.5866666666666667, 0.5246666666666666, 0.49133333333333334, 0.5073333333333333, 0.48733333333333334, 0.55]}, {\"connectgaps\": true, \"marker\": {\"color\": \"rgba(0, 0, 128, 0.9)\"}, \"name\": \"Training accuracy bilstm\", \"type\": \"scatter\", \"y\": [0.2837142857142857, 0.508, 0.6474285714285715, 0.744, 0.8182857142857143, 0.8594285714285714, 0.8988571428571429, 0.9285714285714286, 0.9617142857142857, 0.9711428571428572, 0.974, 0.986, 0.9891428571428571, 0.9928571428571429, 0.9925714285714285, 0.9974285714285714, 0.9994285714285714, 1.0, 1.0, 1.0]}, {\"connectgaps\": true, \"marker\": {\"color\": \"rgba(0, 0, 255, 0.9)\"}, \"name\": \"Test accuracy bilstm\", \"type\": \"scatter\", \"y\": [0.44066666666666665, 0.5533333333333333, 0.6126666666666667, 0.6413333333333333, 0.6546666666666666, 0.6726666666666666, 0.668, 0.696, 0.6906666666666667, 0.7093333333333334, 0.688, 0.7013333333333334, 0.6966666666666667, 0.7013333333333334, 0.6906666666666667, 0.692, 0.7013333333333334, 0.7066666666666667, 0.7086666666666667, 0.71]}],\n",
              "                        {\"template\": {\"data\": {\"bar\": [{\"error_x\": {\"color\": \"#2a3f5f\"}, \"error_y\": {\"color\": \"#2a3f5f\"}, \"marker\": {\"line\": {\"color\": \"#E5ECF6\", \"width\": 0.5}}, \"type\": \"bar\"}], \"barpolar\": [{\"marker\": {\"line\": {\"color\": \"#E5ECF6\", \"width\": 0.5}}, \"type\": \"barpolar\"}], \"carpet\": [{\"aaxis\": {\"endlinecolor\": \"#2a3f5f\", \"gridcolor\": \"white\", \"linecolor\": \"white\", \"minorgridcolor\": \"white\", \"startlinecolor\": \"#2a3f5f\"}, \"baxis\": {\"endlinecolor\": \"#2a3f5f\", \"gridcolor\": \"white\", \"linecolor\": \"white\", \"minorgridcolor\": \"white\", \"startlinecolor\": \"#2a3f5f\"}, \"type\": \"carpet\"}], \"choropleth\": [{\"colorbar\": {\"outlinewidth\": 0, \"ticks\": \"\"}, \"type\": \"choropleth\"}], \"contour\": [{\"colorbar\": {\"outlinewidth\": 0, \"ticks\": \"\"}, \"colorscale\": [[0.0, \"#0d0887\"], [0.1111111111111111, \"#46039f\"], [0.2222222222222222, \"#7201a8\"], [0.3333333333333333, \"#9c179e\"], [0.4444444444444444, \"#bd3786\"], [0.5555555555555556, \"#d8576b\"], [0.6666666666666666, \"#ed7953\"], [0.7777777777777778, \"#fb9f3a\"], [0.8888888888888888, \"#fdca26\"], [1.0, \"#f0f921\"]], \"type\": \"contour\"}], \"contourcarpet\": [{\"colorbar\": {\"outlinewidth\": 0, \"ticks\": \"\"}, \"type\": \"contourcarpet\"}], \"heatmap\": [{\"colorbar\": {\"outlinewidth\": 0, \"ticks\": \"\"}, \"colorscale\": [[0.0, \"#0d0887\"], [0.1111111111111111, \"#46039f\"], [0.2222222222222222, \"#7201a8\"], [0.3333333333333333, \"#9c179e\"], [0.4444444444444444, \"#bd3786\"], [0.5555555555555556, \"#d8576b\"], [0.6666666666666666, \"#ed7953\"], [0.7777777777777778, \"#fb9f3a\"], [0.8888888888888888, \"#fdca26\"], [1.0, \"#f0f921\"]], \"type\": \"heatmap\"}], \"heatmapgl\": [{\"colorbar\": {\"outlinewidth\": 0, \"ticks\": \"\"}, \"colorscale\": [[0.0, \"#0d0887\"], [0.1111111111111111, \"#46039f\"], [0.2222222222222222, \"#7201a8\"], [0.3333333333333333, \"#9c179e\"], [0.4444444444444444, \"#bd3786\"], [0.5555555555555556, \"#d8576b\"], [0.6666666666666666, \"#ed7953\"], [0.7777777777777778, \"#fb9f3a\"], [0.8888888888888888, \"#fdca26\"], [1.0, \"#f0f921\"]], \"type\": \"heatmapgl\"}], \"histogram\": [{\"marker\": {\"colorbar\": {\"outlinewidth\": 0, \"ticks\": \"\"}}, \"type\": \"histogram\"}], \"histogram2d\": [{\"colorbar\": {\"outlinewidth\": 0, \"ticks\": \"\"}, \"colorscale\": [[0.0, \"#0d0887\"], [0.1111111111111111, \"#46039f\"], [0.2222222222222222, \"#7201a8\"], [0.3333333333333333, \"#9c179e\"], [0.4444444444444444, \"#bd3786\"], [0.5555555555555556, \"#d8576b\"], [0.6666666666666666, \"#ed7953\"], [0.7777777777777778, \"#fb9f3a\"], [0.8888888888888888, \"#fdca26\"], [1.0, \"#f0f921\"]], \"type\": \"histogram2d\"}], \"histogram2dcontour\": [{\"colorbar\": {\"outlinewidth\": 0, \"ticks\": \"\"}, \"colorscale\": [[0.0, \"#0d0887\"], [0.1111111111111111, \"#46039f\"], [0.2222222222222222, \"#7201a8\"], [0.3333333333333333, \"#9c179e\"], [0.4444444444444444, \"#bd3786\"], [0.5555555555555556, \"#d8576b\"], [0.6666666666666666, \"#ed7953\"], [0.7777777777777778, \"#fb9f3a\"], [0.8888888888888888, \"#fdca26\"], [1.0, \"#f0f921\"]], \"type\": \"histogram2dcontour\"}], \"mesh3d\": [{\"colorbar\": {\"outlinewidth\": 0, \"ticks\": \"\"}, \"type\": \"mesh3d\"}], \"parcoords\": [{\"line\": {\"colorbar\": {\"outlinewidth\": 0, \"ticks\": \"\"}}, \"type\": \"parcoords\"}], \"pie\": [{\"automargin\": true, \"type\": \"pie\"}], \"scatter\": [{\"marker\": {\"colorbar\": {\"outlinewidth\": 0, \"ticks\": \"\"}}, \"type\": \"scatter\"}], \"scatter3d\": [{\"line\": {\"colorbar\": {\"outlinewidth\": 0, \"ticks\": \"\"}}, \"marker\": {\"colorbar\": {\"outlinewidth\": 0, \"ticks\": \"\"}}, \"type\": \"scatter3d\"}], \"scattercarpet\": [{\"marker\": {\"colorbar\": {\"outlinewidth\": 0, \"ticks\": \"\"}}, \"type\": \"scattercarpet\"}], \"scattergeo\": [{\"marker\": {\"colorbar\": {\"outlinewidth\": 0, \"ticks\": \"\"}}, \"type\": \"scattergeo\"}], \"scattergl\": [{\"marker\": {\"colorbar\": {\"outlinewidth\": 0, \"ticks\": \"\"}}, \"type\": \"scattergl\"}], \"scattermapbox\": [{\"marker\": {\"colorbar\": {\"outlinewidth\": 0, \"ticks\": \"\"}}, \"type\": \"scattermapbox\"}], \"scatterpolar\": [{\"marker\": {\"colorbar\": {\"outlinewidth\": 0, \"ticks\": \"\"}}, \"type\": \"scatterpolar\"}], \"scatterpolargl\": [{\"marker\": {\"colorbar\": {\"outlinewidth\": 0, \"ticks\": \"\"}}, \"type\": \"scatterpolargl\"}], \"scatterternary\": [{\"marker\": {\"colorbar\": {\"outlinewidth\": 0, \"ticks\": \"\"}}, \"type\": \"scatterternary\"}], \"surface\": [{\"colorbar\": {\"outlinewidth\": 0, \"ticks\": \"\"}, \"colorscale\": [[0.0, \"#0d0887\"], [0.1111111111111111, \"#46039f\"], [0.2222222222222222, \"#7201a8\"], [0.3333333333333333, \"#9c179e\"], [0.4444444444444444, \"#bd3786\"], [0.5555555555555556, \"#d8576b\"], [0.6666666666666666, \"#ed7953\"], [0.7777777777777778, \"#fb9f3a\"], [0.8888888888888888, \"#fdca26\"], [1.0, \"#f0f921\"]], \"type\": \"surface\"}], \"table\": [{\"cells\": {\"fill\": {\"color\": \"#EBF0F8\"}, \"line\": {\"color\": \"white\"}}, \"header\": {\"fill\": {\"color\": \"#C8D4E3\"}, \"line\": {\"color\": \"white\"}}, \"type\": \"table\"}]}, \"layout\": {\"annotationdefaults\": {\"arrowcolor\": \"#2a3f5f\", \"arrowhead\": 0, \"arrowwidth\": 1}, \"coloraxis\": {\"colorbar\": {\"outlinewidth\": 0, \"ticks\": \"\"}}, \"colorscale\": {\"diverging\": [[0, \"#8e0152\"], [0.1, \"#c51b7d\"], [0.2, \"#de77ae\"], [0.3, \"#f1b6da\"], [0.4, \"#fde0ef\"], [0.5, \"#f7f7f7\"], [0.6, \"#e6f5d0\"], [0.7, \"#b8e186\"], [0.8, \"#7fbc41\"], [0.9, \"#4d9221\"], [1, \"#276419\"]], \"sequential\": [[0.0, \"#0d0887\"], [0.1111111111111111, \"#46039f\"], [0.2222222222222222, \"#7201a8\"], [0.3333333333333333, \"#9c179e\"], [0.4444444444444444, \"#bd3786\"], [0.5555555555555556, \"#d8576b\"], [0.6666666666666666, \"#ed7953\"], [0.7777777777777778, \"#fb9f3a\"], [0.8888888888888888, \"#fdca26\"], [1.0, \"#f0f921\"]], \"sequentialminus\": [[0.0, \"#0d0887\"], [0.1111111111111111, \"#46039f\"], [0.2222222222222222, \"#7201a8\"], [0.3333333333333333, \"#9c179e\"], [0.4444444444444444, \"#bd3786\"], [0.5555555555555556, \"#d8576b\"], [0.6666666666666666, \"#ed7953\"], [0.7777777777777778, \"#fb9f3a\"], [0.8888888888888888, \"#fdca26\"], [1.0, \"#f0f921\"]]}, \"colorway\": [\"#636efa\", \"#EF553B\", \"#00cc96\", \"#ab63fa\", \"#FFA15A\", \"#19d3f3\", \"#FF6692\", \"#B6E880\", \"#FF97FF\", \"#FECB52\"], \"font\": {\"color\": \"#2a3f5f\"}, \"geo\": {\"bgcolor\": \"white\", \"lakecolor\": \"white\", \"landcolor\": \"#E5ECF6\", \"showlakes\": true, \"showland\": true, \"subunitcolor\": \"white\"}, \"hoverlabel\": {\"align\": \"left\"}, \"hovermode\": \"closest\", \"mapbox\": {\"style\": \"light\"}, \"paper_bgcolor\": \"white\", \"plot_bgcolor\": \"#E5ECF6\", \"polar\": {\"angularaxis\": {\"gridcolor\": \"white\", \"linecolor\": \"white\", \"ticks\": \"\"}, \"bgcolor\": \"#E5ECF6\", \"radialaxis\": {\"gridcolor\": \"white\", \"linecolor\": \"white\", \"ticks\": \"\"}}, \"scene\": {\"xaxis\": {\"backgroundcolor\": \"#E5ECF6\", \"gridcolor\": \"white\", \"gridwidth\": 2, \"linecolor\": \"white\", \"showbackground\": true, \"ticks\": \"\", \"zerolinecolor\": \"white\"}, \"yaxis\": {\"backgroundcolor\": \"#E5ECF6\", \"gridcolor\": \"white\", \"gridwidth\": 2, \"linecolor\": \"white\", \"showbackground\": true, \"ticks\": \"\", \"zerolinecolor\": \"white\"}, \"zaxis\": {\"backgroundcolor\": \"#E5ECF6\", \"gridcolor\": \"white\", \"gridwidth\": 2, \"linecolor\": \"white\", \"showbackground\": true, \"ticks\": \"\", \"zerolinecolor\": \"white\"}}, \"shapedefaults\": {\"line\": {\"color\": \"#2a3f5f\"}}, \"ternary\": {\"aaxis\": {\"gridcolor\": \"white\", \"linecolor\": \"white\", \"ticks\": \"\"}, \"baxis\": {\"gridcolor\": \"white\", \"linecolor\": \"white\", \"ticks\": \"\"}, \"bgcolor\": \"#E5ECF6\", \"caxis\": {\"gridcolor\": \"white\", \"linecolor\": \"white\", \"ticks\": \"\"}}, \"title\": {\"x\": 0.05}, \"xaxis\": {\"automargin\": true, \"gridcolor\": \"white\", \"linecolor\": \"white\", \"ticks\": \"\", \"title\": {\"standoff\": 15}, \"zerolinecolor\": \"white\", \"zerolinewidth\": 2}, \"yaxis\": {\"automargin\": true, \"gridcolor\": \"white\", \"linecolor\": \"white\", \"ticks\": \"\", \"title\": {\"standoff\": 15}, \"zerolinecolor\": \"white\", \"zerolinewidth\": 2}}}},\n",
              "                        {\"responsive\": true}\n",
              "                    ).then(function(){\n",
              "                            \n",
              "var gd = document.getElementById('8a6aff39-8d27-48a2-bcb8-02d3075dd8be');\n",
              "var x = new MutationObserver(function (mutations, observer) {{\n",
              "        var display = window.getComputedStyle(gd).display;\n",
              "        if (!display || display === 'none') {{\n",
              "            console.log([gd, 'removed!']);\n",
              "            Plotly.purge(gd);\n",
              "            observer.disconnect();\n",
              "        }}\n",
              "}});\n",
              "\n",
              "// Listen for the removal of the full notebook cells\n",
              "var notebookContainer = gd.closest('#notebook-container');\n",
              "if (notebookContainer) {{\n",
              "    x.observe(notebookContainer, {childList: true});\n",
              "}}\n",
              "\n",
              "// Listen for the clearing of the current output cell\n",
              "var outputEl = gd.closest('.output');\n",
              "if (outputEl) {{\n",
              "    x.observe(outputEl, {childList: true});\n",
              "}}\n",
              "\n",
              "                        })\n",
              "                };\n",
              "                \n",
              "            </script>\n",
              "        </div>\n",
              "</body>\n",
              "</html>"
            ]
          },
          "metadata": {
            "tags": []
          },
          "output_type": "display_data"
        }
      ],
      "source": [
        "#Plot - accuracy\n",
        "import plotly.graph_objects as go\n",
        "fig_accuracy = go.Figure()\n",
        "\n",
        "fig_accuracy.add_trace(go.Scatter(\n",
        "    y=final_acc_train_lstm,\n",
        "    connectgaps=True, marker_color='rgba(128, 0, 0, 0.9)', name = 'Training accuracy lstm'))\n",
        "\n",
        "fig_accuracy.add_trace(go.Scatter(\n",
        "    y=final_acc_test_lstm,\n",
        "    connectgaps=True, marker_color='rgba(255, 0, 0, 0.9)', name = 'Testing accuracy lstm'))\n",
        "\n",
        "fig_accuracy.add_trace(go.Scatter(\n",
        "    y=final_acc_train_gru,\n",
        "    connectgaps=True, marker_color='rgba(0, 128, 0, 0.9)', name = 'Training accuracy gru'))\n",
        "fig_accuracy.add_trace(go.Scatter(\n",
        "    y=final_acc_test_gru,\n",
        "    connectgaps=True, marker_color = 'rgba(0, 255, 0, 0.9)', name = 'Testing accuracy gru'))\n",
        "\n",
        "fig_accuracy.add_trace(go.Scatter(\n",
        "    y=final_acc_train_bilstm,\n",
        "    connectgaps=True, marker_color='rgba(0, 0, 128, 0.9)', name = 'Training accuracy bilstm'))\n",
        "fig_accuracy.add_trace(go.Scatter(\n",
        "    y=final_acc_test_bilstm, connectgaps=True, marker_color='rgba(0, 0, 255, 0.9)',\n",
        "    name='Test accuracy bilstm'))\n",
        "\n",
        "fig_accuracy.show()"
      ]
    },
    {
      "cell_type": "markdown",
      "metadata": {
        "id": "zGtC1zlW8z5O"
      },
      "source": [
        "Loss Plots"
      ]
    },
    {
      "cell_type": "code",
      "execution_count": null,
      "metadata": {
        "id": "brpLqdhb7o30"
      },
      "outputs": [],
      "source": [
        "#Loss Plots\n",
        "import plotly.graph_objects as go\n",
        "fig_loss = go.Figure()\n",
        "\n",
        "fig_loss.add_trace(go.Scatter(\n",
        "    y=final_loss_train_lstm,\n",
        "    connectgaps=True, marker_color='rgba(128, 0, 0, 0.9)', name = 'Training Loss lstm'))\n",
        "\n",
        "fig_loss.add_trace(go.Scatter(\n",
        "    y=final_loss_test_lstm,\n",
        "    connectgaps=True, marker_color='rgba(255, 0, 0, 0.9)', name = 'Testing Loss lstm'))\n",
        "\n",
        "fig_loss.add_trace(go.Scatter(\n",
        "    y=final_loss_train_gru,\n",
        "    connectgaps=True, marker_color='rgba(0, 128, 0, 0.9)', name = 'Training Loss gru'))\n",
        "\n",
        "fig_loss.add_trace(go.Scatter(\n",
        "    y=final_loss_test_gru,\n",
        "    connectgaps=True, marker_color='rgba(0, 255, 0, 0.9)', name = 'Testing Loss gru'))\n",
        "\n",
        "fig_loss.add_trace(go.Scatter(\n",
        "    y=final_loss_train_bilstm,\n",
        "    connectgaps=True, marker_color='rgba(0, 0, 128, 0.9)', name = 'Training Loss bilstm'))\n",
        "\n",
        "fig_loss.add_trace(go.Scatter(\n",
        "    y=final_loss_test_bilstm,\n",
        "    connectgaps=True, marker_color='rgba(0, 0, 255, 0.9)', name = 'Testing Loss bilstm'))\n",
        "\n",
        "fig_loss.show()"
      ]
    },
    {
      "cell_type": "markdown",
      "metadata": {
        "id": "BaXVezQ-82LJ"
      },
      "source": [
        "F1 Score plots"
      ]
    },
    {
      "cell_type": "code",
      "execution_count": null,
      "metadata": {
        "id": "TcH_jSJuKGID"
      },
      "outputs": [],
      "source": [
        "#Plot - f1score\n",
        "import plotly.graph_objects as go\n",
        "fig_f1score = go.Figure()\n",
        "\n",
        "fig_f1score.add_trace(go.Scatter(\n",
        "    y=final_f1score_train_lstm,\n",
        "    connectgaps=True, marker_color='rgba(128, 0, 0, 0.9)', name = 'Training f1score lstm'))\n",
        "\n",
        "fig_f1score.add_trace(go.Scatter(\n",
        "    y=final_f1score_test_lstm,\n",
        "    connectgaps=True, marker_color='rgba(255, 0, 0, 0.9)', name = 'Testing f1score lstm'))\n",
        "\n",
        "fig_f1score.add_trace(go.Scatter(\n",
        "    y=final_f1score_train_gru,\n",
        "    connectgaps=True, marker_color='rgba(0, 128, 0, 0.9)', name = 'Training f1score gru'))\n",
        "fig_f1score.add_trace(go.Scatter(\n",
        "    y=final_f1score_test_gru,\n",
        "    connectgaps=True, marker_color = 'rgba(0, 255, 0, 0.9)', name = 'Testing f1score gru'))\n",
        "\n",
        "fig_f1score.add_trace(go.Scatter(\n",
        "    y=final_f1score_train_bilstm,\n",
        "    connectgaps=True, marker_color='rgba(0, 0, 128, 0.9)', name = 'Training f1score bilstm'))\n",
        "fig_f1score.add_trace(go.Scatter(\n",
        "    y=final_f1score_test_bilstm, connectgaps=True, marker_color='rgba(0, 0, 255, 0.9)',\n",
        "    name='Test f1score bilstm'))\n",
        "\n",
        "fig_f1score.show()"
      ]
    },
    {
      "cell_type": "code",
      "execution_count": null,
      "metadata": {
        "id": "G5fBMd-XhcA_"
      },
      "outputs": [],
      "source": []
    }
  ],
  "metadata": {
    "accelerator": "GPU",
    "colab": {
      "provenance": []
    },
    "kernelspec": {
      "display_name": "Python 3",
      "name": "python3"
    },
    "language_info": {
      "codemirror_mode": {
        "name": "ipython",
        "version": 3
      },
      "file_extension": ".py",
      "mimetype": "text/x-python",
      "name": "python",
      "nbconvert_exporter": "python",
      "pygments_lexer": "ipython3",
      "version": "3.11.1"
    }
  },
  "nbformat": 4,
  "nbformat_minor": 0
}
