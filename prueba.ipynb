{
 "cells": [
  {
   "cell_type": "code",
   "execution_count": 96,
   "metadata": {},
   "outputs": [
    {
     "ename": "ValueError",
     "evalue": "matmul: Input operand 1 has a mismatch in its core dimension 0, with gufunc signature (n?,k),(k,m?)->(n?,m?) (size 4 is different from 3)",
     "output_type": "error",
     "traceback": [
      "\u001b[0;31m---------------------------------------------------------------------------\u001b[0m",
      "\u001b[0;31mValueError\u001b[0m                                Traceback (most recent call last)",
      "Cell \u001b[0;32mIn[96], line 42\u001b[0m\n\u001b[1;32m     39\u001b[0m art1 \u001b[38;5;241m=\u001b[39m ART1(n\u001b[38;5;241m=\u001b[39m\u001b[38;5;241m3\u001b[39m, m\u001b[38;5;241m=\u001b[39m\u001b[38;5;241m4\u001b[39m, rho\u001b[38;5;241m=\u001b[39m\u001b[38;5;241m0.4\u001b[39m)\n\u001b[1;32m     41\u001b[0m \u001b[38;5;66;03m# Aprender de los datos\u001b[39;00m\n\u001b[0;32m---> 42\u001b[0m \u001b[43mart1\u001b[49m\u001b[38;5;241;43m.\u001b[39;49m\u001b[43mlearn\u001b[49m\u001b[43m(\u001b[49m\u001b[43mX\u001b[49m\u001b[43m)\u001b[49m\n\u001b[1;32m     44\u001b[0m \u001b[38;5;66;03m# Imprimir los pesos aprendidos\u001b[39;00m\n\u001b[1;32m     45\u001b[0m \u001b[38;5;28mprint\u001b[39m(art1\u001b[38;5;241m.\u001b[39mW)\n",
      "Cell \u001b[0;32mIn[96], line 16\u001b[0m, in \u001b[0;36mART1.learn\u001b[0;34m(self, X)\u001b[0m\n\u001b[1;32m     14\u001b[0m x \u001b[38;5;241m=\u001b[39m X[i, :] \u001b[38;5;66;03m# Patrón de entrada\u001b[39;00m\n\u001b[1;32m     15\u001b[0m \u001b[38;5;28;01mwhile\u001b[39;00m \u001b[38;5;28;01mTrue\u001b[39;00m:  \u001b[38;5;66;03m# Bucle hasta que el patrón se clasifique\u001b[39;00m\n\u001b[0;32m---> 16\u001b[0m     y \u001b[38;5;241m=\u001b[39m \u001b[38;5;28;43mself\u001b[39;49m\u001b[38;5;241;43m.\u001b[39;49m\u001b[43mW\u001b[49m\u001b[43m \u001b[49m\u001b[38;5;241;43m@\u001b[39;49m\u001b[43m \u001b[49m\u001b[43mx\u001b[49m \u001b[38;5;66;03m# Salida de la red\u001b[39;00m\n\u001b[1;32m     17\u001b[0m     y_max \u001b[38;5;241m=\u001b[39m np\u001b[38;5;241m.\u001b[39mmax(y) \u001b[38;5;66;03m# Salida máxima\u001b[39;00m\n\u001b[1;32m     18\u001b[0m     \u001b[38;5;28;01mif\u001b[39;00m y_max \u001b[38;5;241m==\u001b[39m \u001b[38;5;241m0\u001b[39m: \u001b[38;5;66;03m# Si la salida máxima es 0, el patrón no se puede clasificar\u001b[39;00m\n",
      "\u001b[0;31mValueError\u001b[0m: matmul: Input operand 1 has a mismatch in its core dimension 0, with gufunc signature (n?,k),(k,m?)->(n?,m?) (size 4 is different from 3)"
     ]
    }
   ],
   "source": [
    "import numpy as np\n",
    "\n",
    "import numpy as np\n",
    "\n",
    "class ART1:\n",
    "    def __init__(self, n, m, rho):\n",
    "        self.n = n # Número de neuronas en la capa de entrada\n",
    "        self.m = m # Número de neuronas en la capa de salida\n",
    "        self.rho = rho # Parámetro de vigilancia\n",
    "        self.W = np.ones((m, n)) / (n + 1) # Pesos iniciales\n",
    "    \n",
    "    def learn(self, X):\n",
    "        for i in range(X.shape[0]): # Para cada patrón de entrada\n",
    "            x = X[i, :] # Patrón de entrada\n",
    "            while True:  # Bucle hasta que el patrón se clasifique\n",
    "                y = self.W @ x # Salida de la red\n",
    "                y_max = np.max(y) # Salida máxima\n",
    "                if y_max == 0: # Si la salida máxima es 0, el patrón no se puede clasificar\n",
    "                    self.W[y == y_max, :] = x / (1 + np.sum(x)) # Crear una nueva categoría\n",
    "                    break \n",
    "                else:\n",
    "                    c = np.argmax(y) # Índice de la neurona ganadora\n",
    "                    S = np.sum(self.W[c, :] * x) # Solapamiento entre el patrón de entrada y la neurona ganadora\n",
    "                    if S / np.sum(x) >= self.rho: # Si el solapamiento es mayor que el parámetro de vigilancia\n",
    "                        self.W[c, :] = (self.W[c, :] + x) / (1 + S) # Actualizar los pesos de la neurona ganadora\n",
    "                        break\n",
    "                    else: # Si el solapamiento es menor que el parámetro de vigilancia\n",
    "                        self.W[c, :] = 0 # Inhibir la neurona ganadora\n",
    "\n",
    "# Crear un conjunto de datos binarios\n",
    "X = np.array([\n",
    "    [0, 0, 0, 1],\n",
    "    [0, 1, 0, 1],\n",
    "    [0, 0, 1, 1],\n",
    "    [1, 0, 0, 0]\n",
    "])\n",
    "\n",
    "# Crear una instancia de ART1\n",
    "art1 = ART1(n=5, m=4, rho=0.4)\n",
    "\n",
    "# Aprender de los datos\n",
    "art1.learn(X)\n",
    "\n",
    "# Imprimir los pesos aprendidos\n",
    "print(art1.W)"
   ]
  }
 ],
 "metadata": {
  "kernelspec": {
   "display_name": "Python 3",
   "language": "python",
   "name": "python3"
  },
  "language_info": {
   "codemirror_mode": {
    "name": "ipython",
    "version": 3
   },
   "file_extension": ".py",
   "mimetype": "text/x-python",
   "name": "python",
   "nbconvert_exporter": "python",
   "pygments_lexer": "ipython3",
   "version": "3.10.12"
  }
 },
 "nbformat": 4,
 "nbformat_minor": 2
}
