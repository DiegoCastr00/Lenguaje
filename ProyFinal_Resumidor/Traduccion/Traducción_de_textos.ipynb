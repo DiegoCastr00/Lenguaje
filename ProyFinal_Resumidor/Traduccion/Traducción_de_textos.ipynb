{
  "nbformat": 4,
  "nbformat_minor": 0,
  "metadata": {
    "colab": {
      "provenance": []
    },
    "kernelspec": {
      "name": "python3",
      "display_name": "Python 3"
    },
    "language_info": {
      "name": "python"
    }
  },
  "cells": [
    {
      "cell_type": "code",
      "execution_count": 22,
      "metadata": {
        "id": "HvQOKBUpIB3P",
        "colab": {
          "base_uri": "https://localhost:8080/"
        },
        "outputId": "947b517b-18b1-470e-d1ae-7a4c28a42ff4"
      },
      "outputs": [
        {
          "output_type": "stream",
          "name": "stdout",
          "text": [
            "Requirement already satisfied: googletrans==3.1.0a0 in /usr/local/lib/python3.10/dist-packages (3.1.0a0)\n",
            "Requirement already satisfied: httpx==0.13.3 in /usr/local/lib/python3.10/dist-packages (from googletrans==3.1.0a0) (0.13.3)\n",
            "Requirement already satisfied: certifi in /usr/local/lib/python3.10/dist-packages (from httpx==0.13.3->googletrans==3.1.0a0) (2024.2.2)\n",
            "Requirement already satisfied: hstspreload in /usr/local/lib/python3.10/dist-packages (from httpx==0.13.3->googletrans==3.1.0a0) (2024.4.1)\n",
            "Requirement already satisfied: sniffio in /usr/local/lib/python3.10/dist-packages (from httpx==0.13.3->googletrans==3.1.0a0) (1.3.1)\n",
            "Requirement already satisfied: chardet==3.* in /usr/local/lib/python3.10/dist-packages (from httpx==0.13.3->googletrans==3.1.0a0) (3.0.4)\n",
            "Requirement already satisfied: idna==2.* in /usr/local/lib/python3.10/dist-packages (from httpx==0.13.3->googletrans==3.1.0a0) (2.10)\n",
            "Requirement already satisfied: rfc3986<2,>=1.3 in /usr/local/lib/python3.10/dist-packages (from httpx==0.13.3->googletrans==3.1.0a0) (1.5.0)\n",
            "Requirement already satisfied: httpcore==0.9.* in /usr/local/lib/python3.10/dist-packages (from httpx==0.13.3->googletrans==3.1.0a0) (0.9.1)\n",
            "Requirement already satisfied: h11<0.10,>=0.8 in /usr/local/lib/python3.10/dist-packages (from httpcore==0.9.*->httpx==0.13.3->googletrans==3.1.0a0) (0.9.0)\n",
            "Requirement already satisfied: h2==3.* in /usr/local/lib/python3.10/dist-packages (from httpcore==0.9.*->httpx==0.13.3->googletrans==3.1.0a0) (3.2.0)\n",
            "Requirement already satisfied: hyperframe<6,>=5.2.0 in /usr/local/lib/python3.10/dist-packages (from h2==3.*->httpcore==0.9.*->httpx==0.13.3->googletrans==3.1.0a0) (5.2.0)\n",
            "Requirement already satisfied: hpack<4,>=3.0 in /usr/local/lib/python3.10/dist-packages (from h2==3.*->httpcore==0.9.*->httpx==0.13.3->googletrans==3.1.0a0) (3.0.0)\n"
          ]
        }
      ],
      "source": [
        "!pip install googletrans==3.1.0a0"
      ]
    },
    {
      "cell_type": "code",
      "source": [
        "# Se importa la libreria\n",
        "from googletrans import Translator\n",
        "\n",
        "# Inicializacion del objeto Translator\n",
        "translator = Translator()"
      ],
      "metadata": {
        "id": "Bzo73J85LnZq"
      },
      "execution_count": 23,
      "outputs": []
    },
    {
      "cell_type": "code",
      "source": [
        "def normalizar_texto(nombre_archivo):\n",
        "    with open(nombre_archivo, 'r', encoding='utf-8') as archivo:\n",
        "        texto = archivo.read().replace('\\n', ' ')\n",
        "    return texto\n",
        "\n",
        "nombre_archivo = 'lectura1.txt'\n",
        "texto_normalizado = normalizar_texto(nombre_archivo)\n",
        "print(texto_normalizado)"
      ],
      "metadata": {
        "colab": {
          "base_uri": "https://localhost:8080/"
        },
        "id": "N2DN3VjKQDkw",
        "outputId": "c46eaff0-4808-4818-86a4-8bdd2093a5ea"
      },
      "execution_count": 24,
      "outputs": [
        {
          "output_type": "stream",
          "name": "stdout",
          "text": [
            "Zu meiner Familie gehören vier Personen. Die Mutter bin ich und dann gehört natürlich mein Mann dazu. Wir haben zwei Kinder, einen Sohn, der sechs Jahre alt ist und eine dreijährige Tochter.  Wir wohnen in einem kleinen Haus mit einem Garten. Dort können die Kinder ein bisschen spielen. Unser Sohn kommt bald in die Schule, unsere Tochter geht noch eine Zeit lang in den Kindergarten. Meine Kinder sind am Nachmittag zu Hause. So arbeite ich nur halbtags.  Eigentlich gehören zu unserer Familie auch noch die Großeltern. Sie wohnen nicht bei uns. Sie haben ein Haus in der Nähe. Die Kinder gehen sie oft besuchen.\n"
          ]
        }
      ]
    },
    {
      "cell_type": "code",
      "source": [
        "def dividir_texto(texto, max_caracteres):\n",
        "    textos_divididos = []\n",
        "    texto_actual = ''\n",
        "    caracteres_actuales = 0\n",
        "\n",
        "    oraciones = texto.split('.')\n",
        "\n",
        "    for oracion in oraciones:\n",
        "        caracteres_actuales += len(oracion) + 1\n",
        "\n",
        "        if caracteres_actuales <= max_caracteres:\n",
        "            texto_actual += oracion + '.'\n",
        "        else:\n",
        "            textos_divididos.append(texto_actual.strip())\n",
        "            texto_actual = oracion + '.'\n",
        "            caracteres_actuales = len(oracion) + 1\n",
        "\n",
        "    textos_divididos.append(texto_actual.strip())\n",
        "\n",
        "    return textos_divididos\n",
        "\n",
        "max_caracteres = 14000\n",
        "textos_divididos = dividir_texto(texto_normalizado, max_caracteres)\n",
        "for i, texto_dividido in enumerate(textos_divididos):\n",
        "    print(f\"Texto {i + 1}:\")\n",
        "    print(texto_dividido)\n",
        "    print(len(texto_dividido))\n",
        "    print()\n"
      ],
      "metadata": {
        "id": "cLqj9kcfh-ik",
        "colab": {
          "base_uri": "https://localhost:8080/"
        },
        "outputId": "f4c0607c-7439-48e4-a22c-378546382971"
      },
      "execution_count": 25,
      "outputs": [
        {
          "output_type": "stream",
          "name": "stdout",
          "text": [
            "Texto 1:\n",
            "Zu meiner Familie gehören vier Personen. Die Mutter bin ich und dann gehört natürlich mein Mann dazu. Wir haben zwei Kinder, einen Sohn, der sechs Jahre alt ist und eine dreijährige Tochter.  Wir wohnen in einem kleinen Haus mit einem Garten. Dort können die Kinder ein bisschen spielen. Unser Sohn kommt bald in die Schule, unsere Tochter geht noch eine Zeit lang in den Kindergarten. Meine Kinder sind am Nachmittag zu Hause. So arbeite ich nur halbtags.  Eigentlich gehören zu unserer Familie auch noch die Großeltern. Sie wohnen nicht bei uns. Sie haben ein Haus in der Nähe. Die Kinder gehen sie oft besuchen..\n",
            "615\n",
            "\n"
          ]
        }
      ]
    },
    {
      "cell_type": "code",
      "source": [
        "# Para hacer la deteccion de idiomas y despues traducir siempre a ingles se puede hacer con esta funcion\n",
        "def traducir(texto_original):\n",
        "    origen = translator.detect(texto_original).lang\n",
        "    # Si el texto esta en otro idioma que no sea ingles lo traduce\n",
        "    if origen != \"en\":\n",
        "        #print(f'Traduccion de {origen} a en')\n",
        "        traduccion = translator.translate(texto_original, dest=\"en\", src=origen).text\n",
        "        return traduccion\n",
        "    # En caso contrario devuelve el texto original ya que esta en ingles\n",
        "    else:\n",
        "        return texto_original\n",
        "\n",
        "texto_prueba = \"소스 텍스트의 언어입니다. 값은 googletrans.LANGUAGES에 나열된 언어 코드 중 하나여야 합니다. 언어가 지정되지 않은 경우 시스템은 자동으로 소스 언어 식별을 시도합니다.\"\n",
        "\n",
        "texto_ingles = traducir(texto_prueba)\n",
        "texto_ingles"
      ],
      "metadata": {
        "id": "HUTPgVqQNqHr",
        "colab": {
          "base_uri": "https://localhost:8080/",
          "height": 53
        },
        "outputId": "68646f16-bafc-491b-c934-b5155c6814b3"
      },
      "execution_count": 26,
      "outputs": [
        {
          "output_type": "execute_result",
          "data": {
            "text/plain": [
              "'The language of the source text. The value must be one of the language codes listed in googletrans.LANGUAGES. If a language is not specified, the system automatically attempts to identify the source language.'"
            ],
            "application/vnd.google.colaboratory.intrinsic+json": {
              "type": "string"
            }
          },
          "metadata": {},
          "execution_count": 26
        }
      ]
    },
    {
      "cell_type": "code",
      "source": [
        "# Para hacer la traduccion de ingles a cualquier idioma especificado\n",
        "import googletrans\n",
        "def traducir_ingles(texto_ingles, idioma_destino):\n",
        "    for abreviatura, nombre_idioma in googletrans.LANGUAGES.items():\n",
        "        if nombre_idioma == idioma_destino:\n",
        "            destino = abreviatura\n",
        "    traduccion = translator.translate(texto_ingles, dest=destino, src=\"en\").text\n",
        "    return traduccion\n",
        "\n",
        "# print(textos_divididos)\n",
        "\n",
        "for i, texto_dividido in enumerate(textos_divididos):\n",
        "    print(f\"Texto {i + 1}:\")\n",
        "    print(texto_dividido)\n",
        "    # print(len(texto_dividido))\n",
        "    texto_ingles = traducir(texto_dividido)\n",
        "    print(traducir_ingles(texto_ingles, \"spanish\"))\n",
        "    print()\n"
      ],
      "metadata": {
        "id": "rrvwYDxoNvSD",
        "colab": {
          "base_uri": "https://localhost:8080/"
        },
        "outputId": "2d75ea31-c6cc-4d64-8c54-a1caf55b3ca0"
      },
      "execution_count": 27,
      "outputs": [
        {
          "output_type": "stream",
          "name": "stdout",
          "text": [
            "Texto 1:\n",
            "Zu meiner Familie gehören vier Personen. Die Mutter bin ich und dann gehört natürlich mein Mann dazu. Wir haben zwei Kinder, einen Sohn, der sechs Jahre alt ist und eine dreijährige Tochter.  Wir wohnen in einem kleinen Haus mit einem Garten. Dort können die Kinder ein bisschen spielen. Unser Sohn kommt bald in die Schule, unsere Tochter geht noch eine Zeit lang in den Kindergarten. Meine Kinder sind am Nachmittag zu Hause. So arbeite ich nur halbtags.  Eigentlich gehören zu unserer Familie auch noch die Großeltern. Sie wohnen nicht bei uns. Sie haben ein Haus in der Nähe. Die Kinder gehen sie oft besuchen..\n",
            "Hay cuatro personas en mi familia. Yo soy la madre y luego por supuesto mi marido es parte de ello. Tenemos dos hijos, un hijo de seis años y una hija de tres años. Vivimos en una pequeña casa con jardín. Los niños pueden jugar un poco allí. Nuestro hijo pronto comenzará la escuela y nuestra hija irá al jardín de infantes por un tiempo. Mis hijos están en casa por la tarde. Entonces solo trabajo a tiempo parcial. En realidad, nuestra familia también incluye a los abuelos. No vives con nosotros. Tienen una casa cerca. Los niños van a menudo a visitarla.\n",
            "\n"
          ]
        }
      ]
    }
  ]
}