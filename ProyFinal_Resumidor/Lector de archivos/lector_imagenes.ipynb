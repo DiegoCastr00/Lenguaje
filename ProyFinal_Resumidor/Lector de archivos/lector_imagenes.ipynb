{
 "cells": [
  {
   "cell_type": "markdown",
   "metadata": {},
   "source": [
    "***Extracción de texto con imagenes***\n",
    "Se requiere tener descragado https://tesseract-ocr.github.io/tessdoc/Compiling.html#windows"
   ]
  },
  {
   "cell_type": "code",
   "execution_count": 14,
   "metadata": {},
   "outputs": [],
   "source": [
    "!pip install pytesseract\n",
    "import pytesseract\n",
    "from PIL import Image\n",
    "\n",
    "def extract_text_from_image(image_path):\n",
    "\n",
    "    image = Image.open(image_path)\n",
    "    \n",
    "    text = pytesseract.image_to_string(image)\n",
    "    \n",
    "    return text\n",
    "# Extraer texto de la imagen\n",
    "image_path = \"ley_lm.jpg\"\n",
    "output = extract_text_from_image(image_path)\n",
    "print( output)\n",
    "\n"
   ]
  },
  {
   "cell_type": "markdown",
   "metadata": {},
   "source": [
    "**Para almacenar dentro de un pdf**"
   ]
  },
  {
   "cell_type": "code",
   "execution_count": 17,
   "metadata": {},
   "outputs": [
    {
     "name": "stdout",
     "output_type": "stream",
     "text": [
      "Text has been saved to agra.pdf\n"
     ]
    }
   ],
   "source": [
    "!pip install reportlab\n",
    "\n",
    "import pytesseract\n",
    "from PIL import Image\n",
    "from reportlab.lib.pagesizes import letter\n",
    "from reportlab.pdfgen import canvas\n",
    "import os\n",
    "\n",
    "def extract_text_from_image(image_path):\n",
    "    image = Image.open(image_path)\n",
    "    text = pytesseract.image_to_string(image)\n",
    "    return text\n",
    "\n",
    "def save_text_to_pdf(text, pdf_path):\n",
    "    c = canvas.Canvas(pdf_path, pagesize=letter)\n",
    "    width, height = letter\n",
    "    lines = text.split('\\n')\n",
    "    \n",
    "    y = height - 40\n",
    "    for line in lines:\n",
    "        if y < 40:  # If we are near the bottom of the page\n",
    "            c.showPage()\n",
    "            y = height - 40\n",
    "        c.drawString(40, y, line)\n",
    "        y -= 14  # Move to the next line\n",
    "\n",
    "    c.save()\n",
    "\n",
    "def convert_image_to_pdf(image_path):\n",
    "    text = extract_text_from_image(image_path)\n",
    "    pdf_path = os.path.splitext(image_path)[0] + '.pdf'\n",
    "    save_text_to_pdf(text, pdf_path)\n",
    "    print(f\"Texto almacenadoe en  {pdf_path}\")\n",
    "\n",
    "#Ejemplo\n",
    "image_path = 'agra.jpg'\n",
    "convert_image_to_pdf(image_path)\n"
   ]
  }
 ],
 "metadata": {
  "kernelspec": {
   "display_name": "Python 3",
   "language": "python",
   "name": "python3"
  },
  "language_info": {
   "codemirror_mode": {
    "name": "ipython",
    "version": 3
   },
   "file_extension": ".py",
   "mimetype": "text/x-python",
   "name": "python",
   "nbconvert_exporter": "python",
   "pygments_lexer": "ipython3",
   "version": "3.11.2"
  }
 },
 "nbformat": 4,
 "nbformat_minor": 2
}
